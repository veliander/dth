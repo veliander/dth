{
 "cells": [
  {
   "cell_type": "code",
   "execution_count": 1,
   "metadata": {
    "pycharm": {
     "name": "#%%\n"
    }
   },
   "outputs": [],
   "source": [
    "#!conda install -c conda-forge spacy\n",
    "# packages only available via pip\n",
    "#!pip install spacy-transformers\n",
    "#!pip install spacy-lookups-data\n",
    "#!python -m spacy download en_core_web_sm\n"
   ]
  },
  {
   "cell_type": "code",
   "execution_count": 2,
   "metadata": {},
   "outputs": [
    {
     "data": {
      "text/html": [
       "<table border=\"1\" class=\"dataframe\">\n",
       "  <thead>\n",
       "    <tr style=\"text-align: right;\">\n",
       "      <th></th>\n",
       "      <th>Type</th>\n",
       "      <th>Transcription</th>\n",
       "    </tr>\n",
       "  </thead>\n",
       "  <tbody>\n",
       "    <tr>\n",
       "      <th>38</th>\n",
       "      <td>Deceptive</td>\n",
       "      <td>Well this person that I really don’t like, I can’t even tell you how much I don’t like them. They just get on my nerves, they bug me about everything, they don’t help me with nothing at all. Like, they try to encourage me, but it just seem like they just doubting me and just make me feel all bad about myself. So, I don’t really like the way they treat me, especially the people who I hang around. They don’t like the friends that I be with, they always talk bad about who I’m with and where I’m going and I just think they should just mind they own business. And I don’t really like the way they do things.</td>\n",
       "    </tr>\n",
       "    <tr>\n",
       "      <th>153</th>\n",
       "      <td>Deceptive</td>\n",
       "      <td>He, uh, he’s from Ohio actually so, he’s a little different. He’s from the country, but it’s like a different kinda, it’s like country manners almost, where he’s like a really friendly guy. He’s huge, like a giant teddy bear almost, where, like, he’s just super friendly. Like not in too, not too, too friendly, but, like, in a nice way, I guess. He seems like someone who would always have your back, too, in like a situation, if you were ever with him where even though we’re not necessarily the closest of friends, he would definitely always back me up. And, uh, just help you out with whatever you needed to be helped with.</td>\n",
       "    </tr>\n",
       "    <tr>\n",
       "      <th>304</th>\n",
       "      <td>Truthful</td>\n",
       "      <td>I’m going to talk about my girlfriend. And she is something I really love about her is how we met an that was through playing soccer with some of my friends and she happened to be there. We had a exciting time playing soccer but it was a lot of fun when we started to have a mulch fight. And the reason I really do like her is because of … how we can just be spontaneous we go out and have ice cream or go on bike rides an it’s very keeps things interesting and very fun.</td>\n",
       "    </tr>\n",
       "    <tr>\n",
       "      <th>303</th>\n",
       "      <td>Truthful</td>\n",
       "      <td>She and I have been dating for a month. And I met her here actually. It was at a party the first weekend I believe. And I got her number and then the next weekend we were talking and hanging out, going to lunch together, and studying together and just getting to know each other. Um she’s really nice and the one of the best uh qualities about her is her compassion for others. She cares a lot about you, and sometimes I feel like she cares about others too much. She should care about herself more.</td>\n",
       "    </tr>\n",
       "    <tr>\n",
       "      <th>94</th>\n",
       "      <td>Deceptive</td>\n",
       "      <td>So this person, um, she’s really nice. She takes the time to see if people are okay and, um, is extremely selfless. Um, they, this person, um, will randomly text you and say “how are you today” or something like that and they, um, always look out for others other than themselves.</td>\n",
       "    </tr>\n",
       "    <tr>\n",
       "      <th>19</th>\n",
       "      <td>Deceptive</td>\n",
       "      <td>Gets on my last nerves is one of my teammates. She’s one of the rudest people I’ve ever met. And, uh, I don’t know she’s very ditsy and, uh, frustrates me a lot. She’s a music major and all she does, uh, when we get home is play her cello all the time, no matter what time it is. She lives right next to me, so I’ll here it at like 2 or 3 in the morning. If I say anything to her, she’s just, she’s very self centered so she doesn’t care about, like, anybody but herself really. And, uh, if she sees us like struggling at a workout or something and we need water and she has a full water bottle, she’ll just sit there and keep to herself. So I just don’t really appreciate how like bratty and self centered she is.</td>\n",
       "    </tr>\n",
       "    <tr>\n",
       "      <th>268</th>\n",
       "      <td>Truthful</td>\n",
       "      <td>Um the characteristics I like about him is he’s very trustworthy, dependent, responsible, um, he’s always there for me, gives me good advice, uh we met at a young age playing basketball, and we grew up together, we went to high school together, we played on various high school teams, middle school teams, area teams together, but when we got to college we parted ways but we remained close, um he’s like one of my best friends, uh he gives me advice about school, about girls. He listens to me when I’m complaining about school, even when he doesn’t sometimes know what I’m talking about but he just hears me out</td>\n",
       "    </tr>\n",
       "    <tr>\n",
       "      <th>61</th>\n",
       "      <td>Deceptive</td>\n",
       "      <td>In elementary school there was this, um, guy that I met. And he always wanted to hang out with me. Um. But I really didn’t like him. He was frustrating and stuff. I mean, he’d always hang around me. In elementary school, you know I was like the weird kid if you were with him so like he would follow me at recess. He was always behind me, always wanting to be with me. And he followed me through middle school and then high school hit and we were still in the same districts. We had a really small school. And, um, yeah, he was always right next to me and there was just really nothing I could do about it.</td>\n",
       "    </tr>\n",
       "    <tr>\n",
       "      <th>200</th>\n",
       "      <td>Truthful</td>\n",
       "      <td>The person I’m going to be talking about is one of my best friend’s boyfriends. Um he came across as a really nice guy, we all met freshman year and were friends, but once they started during he turned into a completely different person um he’s really like controlling and possessive of her um he always wants to be alone with her when we’re all hanging out and will literally kick us out of their room it’s kind of annoying um but other than that he can be like really cold and really rude, moody, like it’s almost like he’s the girl in the relationship it’s kind of weird but um yeah not a person I’m a fan of.</td>\n",
       "    </tr>\n",
       "    <tr>\n",
       "      <th>42</th>\n",
       "      <td>Deceptive</td>\n",
       "      <td>I met this girl in high school and she’s probably the most annoying person I’ve ever met. She actually just moved to Arizona like probably a year ago. Thank god she moved so I never have to see her again. She’s just so frustrating. She just doesn’t listen. She doesn’t help me if I need anything. She thinks we are friends but we’re not. I mean she barely has any friends because she’s not a very nice person and she’s really, really annoying. She talks too much. She doesn’t care about other people. She’s inconsiderate. She, all she cares about is money. All she cares about is looks. So I wouldn’t call her my friend.</td>\n",
       "    </tr>\n",
       "  </tbody>\n",
       "</table>"
      ],
      "text/plain": [
       "<IPython.core.display.HTML object>"
      ]
     },
     "metadata": {},
     "output_type": "display_data"
    }
   ],
   "source": [
    "import pandas as pd\n",
    "import spacy\n",
    "from IPython.display import display, HTML\n",
    "fname = 'dataset.xlsx'\n",
    "df = pd.read_excel(fname)\n",
    "display(HTML(df.sample(10).to_html()))\n"
   ]
  },
  {
   "cell_type": "code",
   "execution_count": 3,
   "metadata": {},
   "outputs": [],
   "source": [
    "import random\n",
    "from IPython.display import Markdown, display\n",
    "\n",
    "\n",
    "def printmd(string, color=None):\n",
    "    colorstr = \"<span style='color:{}'>{}</span>\".format(color, string)\n",
    "    display(Markdown(colorstr))"
   ]
  },
  {
   "cell_type": "markdown",
   "metadata": {},
   "source": [
    "### Count occurrences of specific words or types of words in both types of statements.  \n",
    "### Visualize the proportion"
   ]
  },
  {
   "cell_type": "code",
   "execution_count": 4,
   "metadata": {
    "pycharm": {
     "name": "#%%\n"
    }
   },
   "outputs": [],
   "source": [
    "from collections import Counter\n",
    "\n",
    "right=0\n",
    "wrong=0\n",
    "\n",
    "nlp = spacy.load(\"en_core_web_sm\")\n",
    "\n",
    "def pos_list(doc, pos):\n",
    "    pos_list = [token.lemma for token in doc if token.pos_ == pos]\n",
    "    return Counter(pos_list)\n",
    "\n",
    "def rwratio(lieword, trueword, counter):\n",
    "    right = 0\n",
    "    wrong = 0\n",
    "\n",
    "    if counter[lieword] > counter[trueword] and label == 'Truthful':\n",
    "        wrong += 1\n",
    "    elif counter[lieword] < counter[trueword] and label == 'Deceptive':\n",
    "        wrong += 1\n",
    "    elif counter[lieword] != counter[trueword]:\n",
    "        right += 1\n",
    "    return right, wrong\n",
    "\n",
    "def visualizeFeature(name, tcount, fcount):\n",
    "    labels = ['Truthful', 'Deceptive']\n",
    "    sizes = [tcount, fcount]\n",
    "    fig1, ax1 = plt.subplots()\n",
    "    ax1.pie(sizes, labels=labels, autopct='%1.1f%%',\n",
    "            shadow=True, startangle=90, textprops={'color': \"black\"})\n",
    "    printmd(\n",
    "        f\"\\n\\n## **{name}:** {labels[0]} {tcount} {labels[1]} {fcount}\")\n",
    "    plt.show()\n",
    "\n"
   ]
  },
  {
   "cell_type": "markdown",
   "metadata": {},
   "source": [
    "# Significance tests\n",
    "\n",
    "H<sub>0</sub> : Words from wordlist are equally likely to occur in truthful and deceptive statements\n",
    "\n",
    "H<sub>A</sub> : Words from wordlist occur in truthful and deceptive statements with different probability\n",
    "\n",
    "\n",
    "**Sample**:  measure the proportion truthful/deceptive in the data\n",
    "\n",
    "**Simulation**:  Generate 1000 pairs of 160 docs, randomly inserting words of interest according to the probability with which they occur in the text according to H<sub>0</sub>.  Of course, this kind of simulation is rather naïve, since actual language places a lot more constraints on the simulation.  Theoretically, an advanced generative model could be used to generate better data.  However, such simulation may be skewed, because generative models are typically trained on truthful data.\n",
    "\n",
    "**Assumption**:  If less than 1% of the simulations show a truthful/deceptive proportion equal to or less (or greater, for proportions > 1) than the measured one, reject H<sub>0</sub>\n",
    "\n",
    "If H<sub>0</sub> is rejected, the feature can be used to predict the veracity of a statement"
   ]
  },
  {
   "cell_type": "code",
   "execution_count": 5,
   "metadata": {},
   "outputs": [],
   "source": [
    "#generate a set of \"truthful\" and \"deceptive\" \"documents\" with the same number of words\n",
    "#count \"occurrences\" of a \"word\" that has a probability prob to appear in a \"document\"\n",
    "def simstat(numdoc, numwords, prob):\n",
    "  tcount = 0\n",
    "\n",
    "  for i in range(numdoc):\n",
    "      for j in range(numwords):\n",
    "        if(random.uniform(0, 1) < prob):\n",
    "          tcount += 1\n",
    "  return tcount\n",
    "\n",
    "#simulation:  1000 times generate 2 random documents, each containing words_per_doc\n",
    "\n",
    "\n",
    "def simulation(numdoc, numwords, prob):\n",
    "\n",
    "  sim = []\n",
    "  for k in range(1000):\n",
    "    sim.append(simstat(numdoc, int(words_per_doc), prob) /\n",
    "               simstat(numdoc, int(words_per_doc), prob))\n",
    "  return sim\n"
   ]
  },
  {
   "cell_type": "code",
   "execution_count": 6,
   "metadata": {},
   "outputs": [],
   "source": [
    "import matplotlib.pyplot as plt\n",
    "import numpy as np\n",
    "%matplotlib inline\n",
    "\n",
    "\n",
    "def visualizeSimulation(sim, measured_proportion):\n",
    "  #sort sim\n",
    "  sim = sorted(sim)\n",
    "\n",
    "  bottom = sim[int(0.01*len(sim))]\n",
    "  top = sim[int(0.99*len(sim))]\n",
    "\n",
    "  #count members of sim that are below the measured proportion\n",
    "  below = sum(map(lambda x: x < measured_proportion, sim))\n",
    "  #above = sum(map(lambda x: x > 1/measured_proportion, sim))\n",
    "\n",
    "  alpha = 0.01\n",
    "  pfactor = below/len(sim)\n",
    "\n",
    "  plt.hist(sim, density=False, bins=30)  # density=False would make counts\n",
    "  plt.ylabel('Frequency')\n",
    "  plt.xlabel('Proportion')\n",
    "  plt.show()\n",
    "\n",
    "  print(\n",
    "      f\"Probability of getting a ratio at or below {measured_proportion:.2f}: {pfactor*100:.2f}%\")\n",
    "\n",
    "  if pfactor < alpha:\n",
    "    printmd(\"Feature can be used for veracity assessment\\n\", color=\"green\")\n",
    "  else:\n",
    "    printmd(\"Feature cannot be used for veracity assessment\\n\", color=\"red\")\n",
    "    \n",
    "\n"
   ]
  },
  {
   "cell_type": "markdown",
   "metadata": {},
   "source": [
    "# Extract a few language features that Pennebaker claims can be used to assess veracity of written text.\n",
    "\n",
    "The built-in \"count_by\" method of spaCy cannot be used because we want the ability to count not just spacific POS, but specific POS that are also a part of a short list.  For example, from the auxilliary verb group we only care about the modal verbs.  As it turns out, further splitting that group into two yields a really good results in terms of distribution between deceptive and truthful statements.\n",
    "\n",
    "The idea is to count the occurences of members of each feature group in deceptive as well as truthful statements, and if they are unbalanced, perform a significance test."
   ]
  },
  {
   "cell_type": "code",
   "execution_count": 7,
   "metadata": {},
   "outputs": [],
   "source": [
    "import matplotlib.pyplot as plt\n",
    "from spacy.tokens import Doc\n",
    "\n",
    "def count_words(doc, type, wordlist):\n",
    "    alloftype = [token.lower_ for token in doc if token.pos_ == type]\n",
    "    \n",
    "    if wordlist:\n",
    "        alloftype = [x for x in alloftype if x in wordlist]\n",
    "\n",
    "    return sum(Counter(alloftype).values())\n"
   ]
  },
  {
   "cell_type": "code",
   "execution_count": 8,
   "metadata": {},
   "outputs": [
    {
     "data": {
      "text/markdown": [
       "<span style='color:None'>\n",
       "\n",
       "## **i-words:** Truthful 1303 Deceptive 1208</span>"
      ],
      "text/plain": [
       "<IPython.core.display.Markdown object>"
      ]
     },
     "metadata": {},
     "output_type": "display_data"
    },
    {
     "data": {
      "image/png": "[encoded data removed]",
      "text/plain": [
       "<Figure size 432x288 with 1 Axes>"
      ]
     },
     "metadata": {},
     "output_type": "display_data"
    },
    {
     "data": {
      "image/png": "[encoded data removed]",
      "text/plain": [
       "<Figure size 432x288 with 1 Axes>"
      ]
     },
     "metadata": {
      "needs_background": "light"
     },
     "output_type": "display_data"
    },
    {
     "name": "stdout",
     "output_type": "stream",
     "text": [
      "Probability of getting a ratio at or below 0.93: 0.40%\n"
     ]
    },
    {
     "data": {
      "text/markdown": [
       "<span style='color:green'>Feature can be used for veracity assessment\n",
       "</span>"
      ],
      "text/plain": [
       "<IPython.core.display.Markdown object>"
      ]
     },
     "metadata": {},
     "output_type": "display_data"
    },
    {
     "data": {
      "text/markdown": [
       "<span style='color:None'>\n",
       "\n",
       "## **verbs:** Truthful 2625 Deceptive 2742</span>"
      ],
      "text/plain": [
       "<IPython.core.display.Markdown object>"
      ]
     },
     "metadata": {},
     "output_type": "display_data"
    },
    {
     "data": {
      "image/png": "[encoded data removed]",
      "text/plain": [
       "<Figure size 432x288 with 1 Axes>"
      ]
     },
     "metadata": {},
     "output_type": "display_data"
    },
    {
     "data": {
      "image/png": "[encoded data removed]",
      "text/plain": [
       "<Figure size 432x288 with 1 Axes>"
      ]
     },
     "metadata": {
      "needs_background": "light"
     },
     "output_type": "display_data"
    },
    {
     "name": "stdout",
     "output_type": "stream",
     "text": [
      "Probability of getting a ratio at or below 0.96: 0.50%\n"
     ]
    },
    {
     "data": {
      "text/markdown": [
       "<span style='color:green'>Feature can be used for veracity assessment\n",
       "</span>"
      ],
      "text/plain": [
       "<IPython.core.display.Markdown object>"
      ]
     },
     "metadata": {},
     "output_type": "display_data"
    },
    {
     "data": {
      "text/markdown": [
       "<span style='color:None'>\n",
       "\n",
       "## **articles:** Truthful 686 Deceptive 672</span>"
      ],
      "text/plain": [
       "<IPython.core.display.Markdown object>"
      ]
     },
     "metadata": {},
     "output_type": "display_data"
    },
    {
     "data": {
      "image/png": "[encoded data removed]",
      "text/plain": [
       "<Figure size 432x288 with 1 Axes>"
      ]
     },
     "metadata": {},
     "output_type": "display_data"
    },
    {
     "data": {
      "image/png": "[encoded data removed]",
      "text/plain": [
       "<Figure size 432x288 with 1 Axes>"
      ]
     },
     "metadata": {
      "needs_background": "light"
     },
     "output_type": "display_data"
    },
    {
     "name": "stdout",
     "output_type": "stream",
     "text": [
      "Probability of getting a ratio at or below 0.98: 29.00%\n"
     ]
    },
    {
     "data": {
      "text/markdown": [
       "<span style='color:red'>Feature cannot be used for veracity assessment\n",
       "</span>"
      ],
      "text/plain": [
       "<IPython.core.display.Markdown object>"
      ]
     },
     "metadata": {},
     "output_type": "display_data"
    },
    {
     "data": {
      "text/markdown": [
       "<span style='color:None'>\n",
       "\n",
       "## **modal verbs 1:** Truthful 40 Deceptive 25</span>"
      ],
      "text/plain": [
       "<IPython.core.display.Markdown object>"
      ]
     },
     "metadata": {},
     "output_type": "display_data"
    },
    {
     "data": {
      "image/png": "[encoded data removed]",
      "text/plain": [
       "<Figure size 432x288 with 1 Axes>"
      ]
     },
     "metadata": {},
     "output_type": "display_data"
    },
    {
     "data": {
      "image/png": "[encoded data removed]",
      "text/plain": [
       "<Figure size 432x288 with 1 Axes>"
      ]
     },
     "metadata": {
      "needs_background": "light"
     },
     "output_type": "display_data"
    },
    {
     "name": "stdout",
     "output_type": "stream",
     "text": [
      "Probability of getting a ratio at or below 0.62: 0.90%\n"
     ]
    },
    {
     "data": {
      "text/markdown": [
       "<span style='color:green'>Feature can be used for veracity assessment\n",
       "</span>"
      ],
      "text/plain": [
       "<IPython.core.display.Markdown object>"
      ]
     },
     "metadata": {},
     "output_type": "display_data"
    },
    {
     "data": {
      "text/markdown": [
       "<span style='color:None'>\n",
       "\n",
       "## **modal verbs 2:** Truthful 41 Deceptive 75</span>"
      ],
      "text/plain": [
       "<IPython.core.display.Markdown object>"
      ]
     },
     "metadata": {},
     "output_type": "display_data"
    },
    {
     "data": {
      "image/png": "[encoded data removed]",
      "text/plain": [
       "<Figure size 432x288 with 1 Axes>"
      ]
     },
     "metadata": {},
     "output_type": "display_data"
    },
    {
     "data": {
      "image/png": "[encoded data removed]",
      "text/plain": [
       "<Figure size 432x288 with 1 Axes>"
      ]
     },
     "metadata": {
      "needs_background": "light"
     },
     "output_type": "display_data"
    },
    {
     "name": "stdout",
     "output_type": "stream",
     "text": [
      "Probability of getting a ratio at or below 0.55: 0.00%\n"
     ]
    },
    {
     "data": {
      "text/markdown": [
       "<span style='color:green'>Feature can be used for veracity assessment\n",
       "</span>"
      ],
      "text/plain": [
       "<IPython.core.display.Markdown object>"
      ]
     },
     "metadata": {},
     "output_type": "display_data"
    },
    {
     "data": {
      "text/markdown": [
       "<span style='color:None'>\n",
       "\n",
       "## **cognitive verbs:** Truthful 170 Deceptive 211</span>"
      ],
      "text/plain": [
       "<IPython.core.display.Markdown object>"
      ]
     },
     "metadata": {},
     "output_type": "display_data"
    },
    {
     "data": {
      "image/png": "[encoded data removed]",
      "text/plain": [
       "<Figure size 432x288 with 1 Axes>"
      ]
     },
     "metadata": {},
     "output_type": "display_data"
    },
    {
     "data": {
      "image/png": "[encoded data removed]",
      "text/plain": [
       "<Figure size 432x288 with 1 Axes>"
      ]
     },
     "metadata": {
      "needs_background": "light"
     },
     "output_type": "display_data"
    },
    {
     "name": "stdout",
     "output_type": "stream",
     "text": [
      "Probability of getting a ratio at or below 0.81: 0.10%\n"
     ]
    },
    {
     "data": {
      "text/markdown": [
       "<span style='color:green'>Feature can be used for veracity assessment\n",
       "</span>"
      ],
      "text/plain": [
       "<IPython.core.display.Markdown object>"
      ]
     },
     "metadata": {},
     "output_type": "display_data"
    },
    {
     "data": {
      "text/markdown": [
       "<span style='color:None'>\n",
       "\n",
       "## **interjections:** Truthful 710 Deceptive 725</span>"
      ],
      "text/plain": [
       "<IPython.core.display.Markdown object>"
      ]
     },
     "metadata": {},
     "output_type": "display_data"
    },
    {
     "data": {
      "image/png": "[encoded data removed]",
      "text/plain": [
       "<Figure size 432x288 with 1 Axes>"
      ]
     },
     "metadata": {},
     "output_type": "display_data"
    },
    {
     "data": {
      "image/png": "[encoded data removed]",
      "text/plain": [
       "<Figure size 432x288 with 1 Axes>"
      ]
     },
     "metadata": {
      "needs_background": "light"
     },
     "output_type": "display_data"
    },
    {
     "name": "stdout",
     "output_type": "stream",
     "text": [
      "Probability of getting a ratio at or below 0.98: 28.90%\n"
     ]
    },
    {
     "data": {
      "text/markdown": [
       "<span style='color:red'>Feature cannot be used for veracity assessment\n",
       "</span>"
      ],
      "text/plain": [
       "<IPython.core.display.Markdown object>"
      ]
     },
     "metadata": {},
     "output_type": "display_data"
    }
   ],
   "source": [
    "\n",
    "featureTypes=[\n",
    "    {\n",
    "        'name':'i-words',\n",
    "        'POS':'PRON',\n",
    "        'wordlist': ['we','i', 'me', 'myself', 'my', 'mine'],\n",
    "        'tcount':0,\n",
    "        'fcount':0\n",
    "    },\n",
    "    {\n",
    "        'name': 'verbs',\n",
    "        'POS': 'VERB',\n",
    "        'wordlist': None,\n",
    "        'tcount': 0,\n",
    "        'fcount': 0\n",
    "    },\n",
    "    {\n",
    "        'name': 'articles',\n",
    "        'POS': 'DET',\n",
    "        'wordlist': ['a', 'an', 'the'],\n",
    "        'tcount':0,\n",
    "        'fcount':0\n",
    "    },\n",
    "    {\n",
    "        'name': 'modal verbs 1',\n",
    "        'POS': 'AUX',\n",
    "        'wordlist': [\"could\", \"should\"], \n",
    "        'tcount': 0,\n",
    "        'fcount': 0\n",
    "    },\n",
    "    {\n",
    "        'name': 'modal verbs 2',\n",
    "        'POS': 'AUX',\n",
    "        'wordlist': [\"would\", \"may\"],\n",
    "        'tcount': 0,\n",
    "        'fcount': 0\n",
    "    },\n",
    "    {\n",
    "        'name': 'cognitive verbs',\n",
    "        'POS': 'VERB',\n",
    "        'wordlist': ['realize' , 'think', 'understand', 'figure', 'derive', \"know\", \"believe\", \"recognize\", \"appreciates\"],\n",
    "        'tcount': 0,\n",
    "        'fcount': 0\n",
    "    },\n",
    "    {\n",
    "        'name': 'interjections',\n",
    "        'POS': 'INTJ',\n",
    "        'wordlist': None,\n",
    "        'tcount': 0,\n",
    "        'fcount': 0\n",
    "    }\n",
    "]\n",
    "\n",
    "twcount = 0\n",
    "fwcount = 0\n",
    "\n",
    "docs = []\n",
    "labels = []\n",
    "\n",
    "for index, row in df.iterrows():\n",
    "    text = row['Transcription']\n",
    "    doc = nlp(text)\n",
    "    docs.append(doc)\n",
    "    labels.append(row['Type'])\n",
    "\n",
    "\n",
    "cdoc = Doc.from_docs(docs)\n",
    "\n",
    "for doc, label in zip(docs, labels):\n",
    "    for feature in featureTypes:\n",
    "        if label == 'Truthful':\n",
    "            feature['tcount'] += count_words(doc, feature['POS'], feature['wordlist'])\n",
    "        else:\n",
    "            feature['fcount'] += count_words(doc, feature['POS'], feature['wordlist'])\n",
    "\n",
    "    if label == 'Truthful':\n",
    "        twcount += len(doc)  \n",
    "    else:\n",
    "        fwcount += len(doc) \n",
    "\n",
    "numdocs = len(docs)\n",
    "total_wordcount = twcount + fwcount\n",
    "words_per_doc = total_wordcount/len(docs)\n",
    "\n",
    "for feature in featureTypes:\n",
    "  listlen = len(feature['wordlist']) if feature['wordlist'] else 1\n",
    "  global_occurences = feature['tcount'] + feature['fcount']\n",
    "  visualizeFeature(feature['name'], feature['tcount'], feature['fcount'])\n",
    "  prob = global_occurences/total_wordcount\n",
    "  sim = simulation(numdocs, words_per_doc, prob)\n",
    "  measured_proportion = feature['tcount']/feature['fcount']\n",
    "  if measured_proportion > 1. :\n",
    "    measured_proportion = 1./measured_proportion\n",
    "  visualizeSimulation(sim, measured_proportion)\n",
    "\n"
   ]
  },
  {
   "cell_type": "markdown",
   "metadata": {},
   "source": [
    "Next steps:  construct features by checking for the presence of multiple significant words in a statement.  \n",
    "\n",
    "Perhaps add a score, either 1 for each significant word present, or assign different weight based on the calculated significance "
   ]
  }
 ],
 "metadata": {
  "kernelspec": {
   "display_name": "Python 3 (ipykernel)",
   "language": "python",
   "name": "python3"
  },
  "language_info": {
   "codemirror_mode": {
    "name": "ipython",
    "version": 3
   },
   "file_extension": ".py",
   "mimetype": "text/x-python",
   "name": "python",
   "nbconvert_exporter": "python",
   "pygments_lexer": "ipython3",
   "version": "3.8.12"
  }
 },
 "nbformat": 4,
 "nbformat_minor": 1
}
