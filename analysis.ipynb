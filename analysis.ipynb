{
 "cells": [
  {
   "cell_type": "code",
   "execution_count": 1,
   "metadata": {},
   "outputs": [
    {
     "data": {
      "text/html": [
       "<table border=\"1\" class=\"dataframe\">\n",
       "  <thead>\n",
       "    <tr style=\"text-align: right;\">\n",
       "      <th></th>\n",
       "      <th>Type</th>\n",
       "      <th>Transcription</th>\n",
       "    </tr>\n",
       "  </thead>\n",
       "  <tbody>\n",
       "    <tr>\n",
       "      <th>61</th>\n",
       "      <td>Deceptive</td>\n",
       "      <td>In elementary school there was this, um, guy that I met. And he always wanted to hang out with me. Um. But I really didn’t like him. He was frustrating and stuff. I mean, he’d always hang around me. In elementary school, you know I was like the weird kid if you were with him so like he would follow me at recess. He was always behind me, always wanting to be with me. And he followed me through middle school and then high school hit and we were still in the same districts. We had a really small school. And, um, yeah, he was always right next to me and there was just really nothing I could do about it.</td>\n",
       "    </tr>\n",
       "    <tr>\n",
       "      <th>72</th>\n",
       "      <td>Deceptive</td>\n",
       "      <td>I’ve known this person probably since sophomore year of high school. We were in Father Galony’s class and we’d always, we’d always known each other, like we would be in the same friend group and everything, but we never actually really connected, never had lunch or anything like that. Um, yeah, it was just kind of, sort of that quasi relationship, quasi friendship where you knew each other, but didn’t really get along. And then he came to college with me and we ended up going on the same trip to Chicago together to do work for a client. And we were in the same group, but he kind of took over or wanted to patronize everyone or just kind of put himself in the dominating position and take over the group and it’s just extremely frustrating.</td>\n",
       "    </tr>\n",
       "    <tr>\n",
       "      <th>54</th>\n",
       "      <td>Deceptive</td>\n",
       "      <td>This kid I met last semester, he was really mean. Um, I didn’t know him for that long, but no one seemed to like him on the ship. He kinda just caused drama and whenever anyone ended up having to travel with him he’d cause a fuss over restaurants or museums or basically anything we wanted to do. Um, he was also one of eight and he did not like has family. And whenever, one of them, his parents came to visit and he kind of blew them off and went out with random people. I don’t even know who he went out with because, um, no one really liked even seeing him or talking to him.</td>\n",
       "    </tr>\n",
       "    <tr>\n",
       "      <th>121</th>\n",
       "      <td>Deceptive</td>\n",
       "      <td>I have this teacher um he’s actually like really great and kind of cool. Um he’s so engaged in the material he’s teaching you that it makes you want to be more interested in it. Um he um yeah it’s actually kind of a challenging course um but like you know in a good way.</td>\n",
       "    </tr>\n",
       "    <tr>\n",
       "      <th>250</th>\n",
       "      <td>Truthful</td>\n",
       "      <td>Concerning the person I like, I love to be around them just you know hanging out, going to see, exploring new things, I love to go to the movies with them, or go definitely grab food, talk about things that are going on in our lives, just get to know each other, I feel very comfortable talking to them, maybe going shopping, she’s a lot of fun, so I really just love to definitely go out and do new things and yeah, just enjoy each other’s company</td>\n",
       "    </tr>\n",
       "    <tr>\n",
       "      <th>99</th>\n",
       "      <td>Deceptive</td>\n",
       "      <td>One of my friends is the nicest guy I’ve every met. He’s, uh, he’s really a gentleman, like he holds doors, he says “please” and “thank you,” uh, and a lot of people like him. And he’s just really, um, he’s very independent and he makes really good grades, which I find impressive. And then, um, let’s see. (Laughs) He’s really good at his sport too, like, he’s dedicated. Um, everything he does you can tell, like, it influences his, his decisions on how that’s going to affect his sport, so, um, he doesn’t do a lot of dumb stuff. And, um, let’s see, what else. (Laughs) There’s just so many good things to say about him.</td>\n",
       "    </tr>\n",
       "    <tr>\n",
       "      <th>27</th>\n",
       "      <td>Deceptive</td>\n",
       "      <td>I could not stand her. She was just the most arrogant, conceded, stuck up person I ever met in my life. I could not ever talk to her about anything. It was every time I would talk to her she would talk about what her family did, or who her brother was, or what her cousins were doing, or it was just annoying. She was the, everybody hated her. I pooled a prank on her one time. Like I hated her. She just always was just about her her her. She never cared about anybody else. All her friends were the same way, very stuck up. It was just very like uhhh I just I just could not stand her.</td>\n",
       "    </tr>\n",
       "    <tr>\n",
       "      <th>169</th>\n",
       "      <td>Truthful</td>\n",
       "      <td>I really don’t like this person, um because she’s selfish, like okay, selfish is not even the right, she’s childish, she’s manipulative and overbearing and I think most of all I don’t like this person because she’s she has an attitude of no other and she has so much growing up to do and like as a older person in a family you should look up to that person as like a resource for wisdom or I don’t know, some type of guidance, but she’s just not that, and she’s just hurtful and she’s harmful to people and I think, really I just dislike everything about her, really her personality sucks</td>\n",
       "    </tr>\n",
       "    <tr>\n",
       "      <th>68</th>\n",
       "      <td>Deceptive</td>\n",
       "      <td>He started going to school with me in about second grade and, you know, we didn’t pay that much attention to each other then. But, uh, we went to the same school until we graduated and he was just, he was a really big douche to me. Like, you know, I would, uh, I was really into, like anime stuff , you know, like Yu-Gi_Oh, Dragonball Z, that sort of stuff and he would always be making fun of me for that, you know “Oh you’re such a nerd”, that sort of thing. Um, he was just, I mean he wasn’t the nicest, he wasn’t a pleasant person, you know, he’d always be trying to force his taste in music, which is like rap, which is something, you know, I’m not that into rap. He’d be like trying to force his taste in music and movies and stuff on people.</td>\n",
       "    </tr>\n",
       "    <tr>\n",
       "      <th>53</th>\n",
       "      <td>Deceptive</td>\n",
       "      <td>Uh my roommate uh can be really um she’s good with like fashion type advise and so I’ll ask her like you know how do you think my outfits are and like sometimes she can be really abrasive um when she’s telling like when she’s giving me this advice and like I think she thinks it’s meant well like well meaningful or like meaning meaning you know, means well but really not so much um she’s started doing like lots of yoga and being really fit and stuff this semester.</td>\n",
       "    </tr>\n",
       "  </tbody>\n",
       "</table>"
      ],
      "text/plain": [
       "<IPython.core.display.HTML object>"
      ]
     },
     "metadata": {},
     "output_type": "display_data"
    }
   ],
   "source": [
    "import pandas as pd\n",
    "import spacy\n",
    "from IPython.display import display, HTML, Markdown\n",
    "import random\n",
    "\n",
    "fname = 'dataset.xlsx'\n",
    "df = pd.read_excel(fname)\n",
    "display(HTML(df.sample(10).to_html()))\n"
   ]
  },
  {
   "cell_type": "code",
   "execution_count": 2,
   "metadata": {},
   "outputs": [],
   "source": [
    "\n",
    "def printmd(string, color=\"Black\"):\n",
    "    colorstr = f\"<span style='color:{color}'>{string}</span>\"\n",
    "    display(Markdown(colorstr))"
   ]
  },
  {
   "cell_type": "markdown",
   "metadata": {},
   "source": [
    "### Count occurrences of specific words or types of words in both types of statements.  \n",
    "### Visualize the proportion"
   ]
  },
  {
   "cell_type": "code",
   "execution_count": 3,
   "metadata": {
    "pycharm": {
     "name": "#%%\n"
    }
   },
   "outputs": [],
   "source": [
    "from collections import Counter\n",
    "\n",
    "right=0\n",
    "wrong=0\n",
    "\n",
    "nlp = spacy.load(\"en_core_web_sm\")\n",
    "\n",
    "def pos_list(doc, pos):\n",
    "    pos_list = [token.lemma for token in doc if token.pos_ == pos]\n",
    "    return Counter(pos_list)\n",
    "\n",
    "def rwratio(lieword, trueword, counter):\n",
    "    right = 0\n",
    "    wrong = 0\n",
    "\n",
    "    if counter[lieword] > counter[trueword] and label == 'Truthful':\n",
    "        wrong += 1\n",
    "    elif counter[lieword] < counter[trueword] and label == 'Deceptive':\n",
    "        wrong += 1\n",
    "    elif counter[lieword] != counter[trueword]:\n",
    "        right += 1\n",
    "    return right, wrong\n",
    "\n",
    "def visualizeFeature(name, tcount, fcount):\n",
    "    labels = ['Truthful', 'Deceptive']\n",
    "    sizes = [tcount, fcount]\n",
    "    fig1, ax1 = plt.subplots()\n",
    "    ax1.pie(sizes, labels=labels, autopct='%1.1f%%',\n",
    "            shadow=True, startangle=90, textprops={'color': \"black\"})\n",
    "    printmd(\n",
    "        f\"\\n\\n## **{name}:** {labels[0]} {tcount} {labels[1]} {fcount}\")\n",
    "    plt.show()\n",
    "\n"
   ]
  },
  {
   "cell_type": "markdown",
   "metadata": {},
   "source": [
    "# Significance tests\n",
    "\n",
    "H<sub>0</sub> : Words from wordlist are equally likely to occur in truthful and deceptive statements\n",
    "\n",
    "H<sub>A</sub> : Words from wordlist occur in truthful and deceptive statements with different probability\n",
    "\n",
    "\n",
    "**Sample**:  measure the proportion truthful/deceptive in the data\n",
    "\n",
    "**Simulation**:  Generate 1000 pairs of 160 docs, randomly inserting words of interest according to the probability with which they occur in the text according to H<sub>0</sub>.  Of course, this kind of simulation is rather naïve, since actual language places a lot more constraints on the simulation.  Theoretically, an advanced generative model could be used to generate better data.  However, such simulation may be skewed, because generative models are typically trained on truthful data.\n",
    "\n",
    "**Assumption**:  If less than 1% of the simulations show a truthful/deceptive proportion equal to or less (or greater, for proportions > 1) than the measured one, reject H<sub>0</sub>\n",
    "\n",
    "If H<sub>0</sub> is rejected, the feature can be used to predict the veracity of a statement"
   ]
  },
  {
   "cell_type": "code",
   "execution_count": 4,
   "metadata": {},
   "outputs": [],
   "source": [
    "#generate a set of \"truthful\" and \"deceptive\" \"documents\" with the same number of words\n",
    "#count \"occurrences\" of a \"word\" that has a probability prob to appear in a \"document\"\n",
    "def simstat(numdoc, numwords, prob):\n",
    "  tcount = 0\n",
    "\n",
    "  for i in range(numdoc):\n",
    "      for j in range(numwords):\n",
    "        if(random.uniform(0, 1) < prob):\n",
    "          tcount += 1\n",
    "  return tcount\n",
    "\n",
    "#simulation:  1000 times generate 2 random documents, each containing words_per_doc\n",
    "\n",
    "\n",
    "def simulation(numdoc, numwords, prob):\n",
    "\n",
    "  sim = []\n",
    "  for k in range(1000):\n",
    "    sim.append(simstat(numdoc, int(words_per_doc), prob) /\n",
    "               simstat(numdoc, int(words_per_doc), prob))\n",
    "  return sim\n"
   ]
  },
  {
   "cell_type": "code",
   "execution_count": 5,
   "metadata": {},
   "outputs": [],
   "source": [
    "import matplotlib.pyplot as plt\n",
    "import numpy as np\n",
    "%matplotlib inline\n",
    "\n",
    "\n",
    "def visualizeSimulation(sim, measured_proportion):\n",
    "  #sort sim\n",
    "  sim = sorted(sim)\n",
    "\n",
    "  bottom = sim[int(0.01*len(sim))]\n",
    "  top = sim[int(0.99*len(sim))]\n",
    "\n",
    "  #count members of sim that are below the measured proportion\n",
    "  below = sum(map(lambda x: x < measured_proportion, sim))\n",
    "  #above = sum(map(lambda x: x > 1/measured_proportion, sim))\n",
    "\n",
    "  alpha = 0.01\n",
    "  pfactor = below/len(sim)\n",
    "\n",
    "  plt.hist(sim, density=False, bins=30)  # density=False would make counts\n",
    "  plt.ylabel('Frequency')\n",
    "  plt.xlabel('Proportion')\n",
    "  plt.show()\n",
    "\n",
    "  print(\n",
    "      f\"Probability of getting a ratio at or below {measured_proportion:.2f}: {pfactor*100:.2f}%\")\n",
    "\n",
    "  if pfactor < alpha:\n",
    "    printmd(\"Feature can be used for veracity assessment\\n\", color=\"green\")\n",
    "  else:\n",
    "    printmd(\"Feature cannot be used for veracity assessment\\n\", color=\"red\")\n",
    "    \n",
    "\n"
   ]
  },
  {
   "cell_type": "markdown",
   "metadata": {},
   "source": [
    "# Extract a few language features that Pennebaker claims can be used to assess veracity of written text.\n",
    "\n",
    "The built-in \"count_by\" method of spaCy cannot be used because we want the ability to count not just spacific POS, but specific POS that are also a part of a short list.  For example, from the auxilliary verb group we only care about the modal verbs.  As it turns out, further splitting that group into two yields a really good results in terms of distribution between deceptive and truthful statements.\n",
    "\n",
    "The idea is to count the occurences of members of each feature group in deceptive as well as truthful statements, and if they are unbalanced, perform a significance test."
   ]
  },
  {
   "cell_type": "code",
   "execution_count": 6,
   "metadata": {},
   "outputs": [],
   "source": [
    "import matplotlib.pyplot as plt\n",
    "from spacy.tokens import Doc\n",
    "\n",
    "def count_words(doc, type, wordlist):\n",
    "    alloftype = [token.lower_ for token in doc if token.pos_ == type]\n",
    "    \n",
    "    if wordlist:\n",
    "        alloftype = [x for x in alloftype if x in wordlist]\n",
    "\n",
    "    return sum(Counter(alloftype).values())\n"
   ]
  },
  {
   "cell_type": "code",
   "execution_count": 7,
   "metadata": {},
   "outputs": [
    {
     "data": {
      "text/markdown": [
       "<span style='color:Black'>\n",
       "\n",
       "## **i-words:** Truthful 1303 Deceptive 1208</span>"
      ],
      "text/plain": [
       "<IPython.core.display.Markdown object>"
      ]
     },
     "metadata": {},
     "output_type": "display_data"
    },
    {
     "data": {
      "image/png": "[encoded data removed]",
      "text/plain": [
       "<Figure size 432x288 with 1 Axes>"
      ]
     },
     "metadata": {},
     "output_type": "display_data"
    },
    {
     "data": {
      "image/png": "[encoded data removed]",
      "text/plain": [
       "<Figure size 432x288 with 1 Axes>"
      ]
     },
     "metadata": {
      "needs_background": "light"
     },
     "output_type": "display_data"
    },
    {
     "name": "stdout",
     "output_type": "stream",
     "text": [
      "Probability of getting a ratio at or below 0.93: 0.30%\n"
     ]
    },
    {
     "data": {
      "text/markdown": [
       "<span style='color:green'>Feature can be used for veracity assessment\n",
       "</span>"
      ],
      "text/plain": [
       "<IPython.core.display.Markdown object>"
      ]
     },
     "metadata": {},
     "output_type": "display_data"
    },
    {
     "data": {
      "text/markdown": [
       "<span style='color:Black'>\n",
       "\n",
       "## **verbs:** Truthful 2625 Deceptive 2742</span>"
      ],
      "text/plain": [
       "<IPython.core.display.Markdown object>"
      ]
     },
     "metadata": {},
     "output_type": "display_data"
    },
    {
     "data": {
      "image/png": "[encoded data removed]",
      "text/plain": [
       "<Figure size 432x288 with 1 Axes>"
      ]
     },
     "metadata": {},
     "output_type": "display_data"
    },
    {
     "data": {
      "image/png": "[encoded data removed]",
      "text/plain": [
       "<Figure size 432x288 with 1 Axes>"
      ]
     },
     "metadata": {
      "needs_background": "light"
     },
     "output_type": "display_data"
    },
    {
     "name": "stdout",
     "output_type": "stream",
     "text": [
      "Probability of getting a ratio at or below 0.96: 1.30%\n"
     ]
    },
    {
     "data": {
      "text/markdown": [
       "<span style='color:red'>Feature cannot be used for veracity assessment\n",
       "</span>"
      ],
      "text/plain": [
       "<IPython.core.display.Markdown object>"
      ]
     },
     "metadata": {},
     "output_type": "display_data"
    },
    {
     "data": {
      "text/markdown": [
       "<span style='color:Black'>\n",
       "\n",
       "## **articles:** Truthful 686 Deceptive 672</span>"
      ],
      "text/plain": [
       "<IPython.core.display.Markdown object>"
      ]
     },
     "metadata": {},
     "output_type": "display_data"
    },
    {
     "data": {
      "image/png": "[encoded data removed]",
      "text/plain": [
       "<Figure size 432x288 with 1 Axes>"
      ]
     },
     "metadata": {},
     "output_type": "display_data"
    },
    {
     "data": {
      "image/png": "[encoded data removed]",
      "text/plain": [
       "<Figure size 432x288 with 1 Axes>"
      ]
     },
     "metadata": {
      "needs_background": "light"
     },
     "output_type": "display_data"
    },
    {
     "name": "stdout",
     "output_type": "stream",
     "text": [
      "Probability of getting a ratio at or below 0.98: 29.90%\n"
     ]
    },
    {
     "data": {
      "text/markdown": [
       "<span style='color:red'>Feature cannot be used for veracity assessment\n",
       "</span>"
      ],
      "text/plain": [
       "<IPython.core.display.Markdown object>"
      ]
     },
     "metadata": {},
     "output_type": "display_data"
    },
    {
     "data": {
      "text/markdown": [
       "<span style='color:Black'>\n",
       "\n",
       "## **modal verbs 1:** Truthful 40 Deceptive 25</span>"
      ],
      "text/plain": [
       "<IPython.core.display.Markdown object>"
      ]
     },
     "metadata": {},
     "output_type": "display_data"
    },
    {
     "data": {
      "image/png": "[encoded data removed]",
      "text/plain": [
       "<Figure size 432x288 with 1 Axes>"
      ]
     },
     "metadata": {},
     "output_type": "display_data"
    },
    {
     "data": {
      "image/png": "[encoded data removed]",
      "text/plain": [
       "<Figure size 432x288 with 1 Axes>"
      ]
     },
     "metadata": {
      "needs_background": "light"
     },
     "output_type": "display_data"
    },
    {
     "name": "stdout",
     "output_type": "stream",
     "text": [
      "Probability of getting a ratio at or below 0.62: 0.00%\n"
     ]
    },
    {
     "data": {
      "text/markdown": [
       "<span style='color:green'>Feature can be used for veracity assessment\n",
       "</span>"
      ],
      "text/plain": [
       "<IPython.core.display.Markdown object>"
      ]
     },
     "metadata": {},
     "output_type": "display_data"
    },
    {
     "data": {
      "text/markdown": [
       "<span style='color:Black'>\n",
       "\n",
       "## **modal verbs 2:** Truthful 41 Deceptive 75</span>"
      ],
      "text/plain": [
       "<IPython.core.display.Markdown object>"
      ]
     },
     "metadata": {},
     "output_type": "display_data"
    },
    {
     "data": {
      "image/png": "[encoded data removed]",
      "text/plain": [
       "<Figure size 432x288 with 1 Axes>"
      ]
     },
     "metadata": {},
     "output_type": "display_data"
    },
    {
     "data": {
      "image/png": "[encoded data removed]",
      "text/plain": [
       "<Figure size 432x288 with 1 Axes>"
      ]
     },
     "metadata": {
      "needs_background": "light"
     },
     "output_type": "display_data"
    },
    {
     "name": "stdout",
     "output_type": "stream",
     "text": [
      "Probability of getting a ratio at or below 0.55: 0.00%\n"
     ]
    },
    {
     "data": {
      "text/markdown": [
       "<span style='color:green'>Feature can be used for veracity assessment\n",
       "</span>"
      ],
      "text/plain": [
       "<IPython.core.display.Markdown object>"
      ]
     },
     "metadata": {},
     "output_type": "display_data"
    },
    {
     "data": {
      "text/markdown": [
       "<span style='color:Black'>\n",
       "\n",
       "## **cognitive verbs:** Truthful 170 Deceptive 211</span>"
      ],
      "text/plain": [
       "<IPython.core.display.Markdown object>"
      ]
     },
     "metadata": {},
     "output_type": "display_data"
    },
    {
     "data": {
      "image/png": "[encoded data removed]",
      "text/plain": [
       "<Figure size 432x288 with 1 Axes>"
      ]
     },
     "metadata": {},
     "output_type": "display_data"
    },
    {
     "data": {
      "image/png": "[encoded data removed]",
      "text/plain": [
       "<Figure size 432x288 with 1 Axes>"
      ]
     },
     "metadata": {
      "needs_background": "light"
     },
     "output_type": "display_data"
    },
    {
     "name": "stdout",
     "output_type": "stream",
     "text": [
      "Probability of getting a ratio at or below 0.81: 0.10%\n"
     ]
    },
    {
     "data": {
      "text/markdown": [
       "<span style='color:green'>Feature can be used for veracity assessment\n",
       "</span>"
      ],
      "text/plain": [
       "<IPython.core.display.Markdown object>"
      ]
     },
     "metadata": {},
     "output_type": "display_data"
    },
    {
     "data": {
      "text/markdown": [
       "<span style='color:Black'>\n",
       "\n",
       "## **interjections:** Truthful 710 Deceptive 725</span>"
      ],
      "text/plain": [
       "<IPython.core.display.Markdown object>"
      ]
     },
     "metadata": {},
     "output_type": "display_data"
    },
    {
     "data": {
      "image/png": "[encoded data removed]",
      "text/plain": [
       "<Figure size 432x288 with 1 Axes>"
      ]
     },
     "metadata": {},
     "output_type": "display_data"
    },
    {
     "data": {
      "image/png": "[encoded data removed]",
      "text/plain": [
       "<Figure size 432x288 with 1 Axes>"
      ]
     },
     "metadata": {
      "needs_background": "light"
     },
     "output_type": "display_data"
    },
    {
     "name": "stdout",
     "output_type": "stream",
     "text": [
      "Probability of getting a ratio at or below 0.98: 29.20%\n"
     ]
    },
    {
     "data": {
      "text/markdown": [
       "<span style='color:red'>Feature cannot be used for veracity assessment\n",
       "</span>"
      ],
      "text/plain": [
       "<IPython.core.display.Markdown object>"
      ]
     },
     "metadata": {},
     "output_type": "display_data"
    }
   ],
   "source": [
    "\n",
    "featureTypes=[\n",
    "    {\n",
    "        'name':'i-words',\n",
    "        'POS':'PRON',\n",
    "        'wordlist': ['we','i', 'me', 'myself', 'my', 'mine'],\n",
    "        'tcount':0,\n",
    "        'fcount':0\n",
    "    },\n",
    "    {\n",
    "        'name': 'verbs',\n",
    "        'POS': 'VERB',\n",
    "        'wordlist': None,\n",
    "        'tcount': 0,\n",
    "        'fcount': 0\n",
    "    },\n",
    "    {\n",
    "        'name': 'articles',\n",
    "        'POS': 'DET',\n",
    "        'wordlist': ['a', 'an', 'the'],\n",
    "        'tcount':0,\n",
    "        'fcount':0\n",
    "    },\n",
    "    {\n",
    "        'name': 'modal verbs 1',\n",
    "        'POS': 'AUX',\n",
    "        'wordlist': [\"could\", \"should\"], \n",
    "        'tcount': 0,\n",
    "        'fcount': 0\n",
    "    },\n",
    "    {\n",
    "        'name': 'modal verbs 2',\n",
    "        'POS': 'AUX',\n",
    "        'wordlist': [\"would\", \"may\"],\n",
    "        'tcount': 0,\n",
    "        'fcount': 0\n",
    "    },\n",
    "    {\n",
    "        'name': 'cognitive verbs',\n",
    "        'POS': 'VERB',\n",
    "        'wordlist': ['realize' , 'think', 'understand', 'figure', 'derive', \"know\", \"believe\", \"recognize\", \"appreciates\"],\n",
    "        'tcount': 0,\n",
    "        'fcount': 0\n",
    "    },\n",
    "    {\n",
    "        'name': 'interjections',\n",
    "        'POS': 'INTJ',\n",
    "        'wordlist': None,\n",
    "        'tcount': 0,\n",
    "        'fcount': 0\n",
    "    }\n",
    "]\n",
    "\n",
    "twcount = 0\n",
    "fwcount = 0\n",
    "\n",
    "docs = []\n",
    "labels = []\n",
    "\n",
    "for index, row in df.iterrows():\n",
    "    text = row['Transcription']\n",
    "    doc = nlp(text)\n",
    "    docs.append(doc)\n",
    "    labels.append(row['Type'])\n",
    "\n",
    "\n",
    "cdoc = Doc.from_docs(docs)\n",
    "\n",
    "for doc, label in zip(docs, labels):\n",
    "    for feature in featureTypes:\n",
    "        if label == 'Truthful':\n",
    "            feature['tcount'] += count_words(doc, feature['POS'], feature['wordlist'])\n",
    "        else:\n",
    "            feature['fcount'] += count_words(doc, feature['POS'], feature['wordlist'])\n",
    "\n",
    "    if label == 'Truthful':\n",
    "        twcount += len(doc)  \n",
    "    else:\n",
    "        fwcount += len(doc) \n",
    "\n",
    "numdocs = len(docs)\n",
    "total_wordcount = twcount + fwcount\n",
    "words_per_doc = total_wordcount/len(docs)\n",
    "\n",
    "for feature in featureTypes:\n",
    "  listlen = len(feature['wordlist']) if feature['wordlist'] else 1\n",
    "  global_occurences = feature['tcount'] + feature['fcount']\n",
    "  visualizeFeature(feature['name'], feature['tcount'], feature['fcount'])\n",
    "  prob = global_occurences/total_wordcount\n",
    "  sim = simulation(numdocs, words_per_doc, prob)\n",
    "  measured_proportion = feature['tcount']/feature['fcount']\n",
    "  if measured_proportion > 1. :\n",
    "    measured_proportion = 1./measured_proportion\n",
    "  visualizeSimulation(sim, measured_proportion)\n",
    "\n"
   ]
  },
  {
   "cell_type": "markdown",
   "metadata": {},
   "source": [
    "Next steps:  construct features by checking for the presence of multiple significant words in a statement.  \n",
    "\n",
    "Perhaps add a score, either 1 for each significant word present, or assign different weight based on the calculated significance "
   ]
  }
 ],
 "metadata": {
  "kernelspec": {
   "display_name": "Python 3 (ipykernel)",
   "language": "python",
   "name": "python3"
  },
  "language_info": {
   "codemirror_mode": {
    "name": "ipython",
    "version": 3
   },
   "file_extension": ".py",
   "mimetype": "text/x-python",
   "name": "python",
   "nbconvert_exporter": "python",
   "pygments_lexer": "ipython3",
   "version": "3.7.11"
  }
 },
 "nbformat": 4,
 "nbformat_minor": 1
}
