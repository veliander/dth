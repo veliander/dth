{
 "cells": [
  {
   "cell_type": "code",
   "execution_count": 1,
   "metadata": {},
   "outputs": [
    {
     "data": {
      "text/html": [
       "<table border=\"1\" class=\"dataframe\">\n",
       "  <thead>\n",
       "    <tr style=\"text-align: right;\">\n",
       "      <th></th>\n",
       "      <th>Type</th>\n",
       "      <th>Transcription</th>\n",
       "    </tr>\n",
       "  </thead>\n",
       "  <tbody>\n",
       "    <tr>\n",
       "      <th>126</th>\n",
       "      <td>Deceptive</td>\n",
       "      <td>I like her cause she’s really positive, and she always makes the environment very happy. Her laugh is contagious and she always has a smile on her face. Um and tries to make everybody else smile or laugh. An I really like her humor cause she can be pretty funny. She’s also really caring and sharing. Um she used to share chocolates and give everybody food uh if she had extra which was always nice. An She was always very helpful trying to give the best service that you can without being uh mean or anything to the customer.</td>\n",
       "    </tr>\n",
       "    <tr>\n",
       "      <th>309</th>\n",
       "      <td>Truthful</td>\n",
       "      <td>At a party one time she walked in and her smile kind of lit up the room and I was just kind of very interested. Some of our interests our mutual interests are music, we both are like love country music um  we’re going to see Florida Georgia line and Luke Bryan at some point un and in December we’re going to where is it, Kit More at Brick Street.  Um we both get along very well, we like the same food and uh so I guess we’ve just really grown to like each other</td>\n",
       "    </tr>\n",
       "    <tr>\n",
       "      <th>43</th>\n",
       "      <td>Deceptive</td>\n",
       "      <td>Um. There’s this girl who lives down the hall from me and I literally see her all the time. And like it’s one of those things where like I would pass by her on campus and like I don’t know if I should say hi or not. And it’s really awkward because she lives in my dorm but like we just aren’t really close and then I always run into her in like the most awkward situations. So like I’ll like wake up late and like be a mess just waking up and she’ll be like perfectly dressed up and going to class as I’m like rolling out of bed. And, I don’t know, she just always seems to have like, this like pretentious air about her and I’m just like, can’t handle sometimes.</td>\n",
       "    </tr>\n",
       "    <tr>\n",
       "      <th>242</th>\n",
       "      <td>Truthful</td>\n",
       "      <td>We met at school and she was the sweetest person I’ve met in the whole entire world. We instantly clicked. Um. We always hang out with each other whether it was at her house or my house, just walking around the neighborhood or playing games online or Facebook, anything. We just always together, always having fun. Um. She’s super nice. She’s really pretty. She’s super sweet. She’s like the best person in the world. If you met her you’d probably try to steal her from me as best friend. She’s amazing.</td>\n",
       "    </tr>\n",
       "    <tr>\n",
       "      <th>2</th>\n",
       "      <td>Deceptive</td>\n",
       "      <td>We met in school and it was my first day there. I was new. And as soon as we met each other, it was like instant, we hated each other. It was horrible. Like we couldn’t sit next to each other in classes; we couldn’t work together on projects even in big groups. All teachers knew that because no matter what we were arguing because we just had so many different ideas that never worked. We were total opposites. Like, I don’t know why she hated as much as she did from the beginning but she did. And the feeling was mutual. Like, she’s just horrible person and I hate her guts still today.</td>\n",
       "    </tr>\n",
       "    <tr>\n",
       "      <th>150</th>\n",
       "      <td>Deceptive</td>\n",
       "      <td>Since day one uh when we met we just kinda clicked and um it’s just been great since there. Uh he’s very down to earth. really guy really easy guy to get along with. Uh he’ll help you out with anything you need. He uh geez um he likes the same music as me. Uh We kinda have the same humor. Uh like the same movies. Um super nice guy, never tries to put ya down. Um and uh we’ve just, I mean, gosh we’ve clicked since day one. It’s been a great friendship so far and I can’t wait to see where it goes from here. But uh but yeah he’s just I mean he’s an awesome guy.</td>\n",
       "    </tr>\n",
       "    <tr>\n",
       "      <th>201</th>\n",
       "      <td>Truthful</td>\n",
       "      <td>So I have this professor, he really kind of sucks um he’s really awkward and okay this really has nothing to do with his teaching but his hair is like long-ish, it’s like down to his shoulders and it’s blonde and like kind of curly, and it looks like he’s trying to be someone from the middle ages. Like I feel like he should be wearing tights to class. But this other thing that really annoys me is that he does the clicker questions and he feels the need to like read off the answers on the board which I clearly can already see so it’s just really redundant and kind of annoying.</td>\n",
       "    </tr>\n",
       "    <tr>\n",
       "      <th>252</th>\n",
       "      <td>Truthful</td>\n",
       "      <td>I really like this person that I met at Miami University last year. umm. I met her the first day I got here actually. And she is really inspiring. Um. I like this person because she is truthful. Shes is encouraging. Um. I help her, she helps me. It's just great. We have fun together. It's like one of those friendships where we don't have to talk all the time, but when we do talk it's like we picked up from like right from where we started.</td>\n",
       "    </tr>\n",
       "    <tr>\n",
       "      <th>185</th>\n",
       "      <td>Truthful</td>\n",
       "      <td>What I don't like is when people let power go to their head, and this kid, that's exactly what he does, like. I can understand when someone is, earns something and they're over you and they've done something, um, to show that they, they deserve to be, you know, in a position of leadership or distinguish themselves, that is great. But i hate when someone throws it over like everyone else and they make everyone else feel small. Like, when you get into those kinds of positions you should be able to make everyone else feel better about themselves, and this guy just does not do that.</td>\n",
       "    </tr>\n",
       "    <tr>\n",
       "      <th>88</th>\n",
       "      <td>Deceptive</td>\n",
       "      <td>This person is one of my favorite professors that I’ve ever had. Um, I really enjoyed this class and it was all, um, he was all about building a sense of community and, um, just having like a really fun and positive work environment. So he was always really fun to interact with. And we just kind of came to class and we just sort of fell into this really nice group and a nice pattern of, uh, doing things. And it, really easy to talk to and, um, explain things well, was attentive and, you know, didn’t make you feel like, you know, “Oh, you don’t know what you’re doing.” It was just, he was easy to approach and talk to, so I enjoyed him a lot.</td>\n",
       "    </tr>\n",
       "  </tbody>\n",
       "</table>"
      ],
      "text/plain": [
       "<IPython.core.display.HTML object>"
      ]
     },
     "metadata": {},
     "output_type": "display_data"
    }
   ],
   "source": [
    "import pandas as pd\n",
    "import spacy\n",
    "from IPython.display import display, HTML, Markdown\n",
    "import random\n",
    "\n",
    "fname = 'dataset.xlsx'\n",
    "df = pd.read_excel(fname)\n",
    "display(HTML(df.sample(10).to_html()))\n"
   ]
  },
  {
   "cell_type": "code",
   "execution_count": 2,
   "metadata": {},
   "outputs": [],
   "source": [
    "\n",
    "def printmd(string, color=\"Black\"):\n",
    "    colorstr = f\"<span style='color:{color}'>{string}</span>\"\n",
    "    display(Markdown(colorstr))"
   ]
  },
  {
   "cell_type": "markdown",
   "metadata": {},
   "source": [
    "### Count occurrences of specific words or types of words in both types of statements.  \n",
    "### Visualize the proportion"
   ]
  },
  {
   "cell_type": "code",
   "execution_count": 3,
   "metadata": {
    "pycharm": {
     "name": "#%%\n"
    }
   },
   "outputs": [],
   "source": [
    "from collections import Counter\n",
    "\n",
    "right=0\n",
    "wrong=0\n",
    "\n",
    "nlp = spacy.load(\"en_core_web_sm\")\n",
    "\n",
    "def visualizeFeature(name, tcount, fcount):\n",
    "    labels = ['Truthful', 'Deceptive']\n",
    "    sizes = [tcount, fcount]\n",
    "    fig1, ax1 = plt.subplots()\n",
    "    ax1.pie(sizes, labels=labels, autopct='%1.1f%%',\n",
    "            shadow=True, startangle=90, textprops={'color': \"black\"})\n",
    "    printmd(\n",
    "        f\"\\n\\n## **{name}:** {labels[0]} {tcount} {labels[1]} {fcount}\")\n",
    "    plt.show()\n",
    "\n"
   ]
  },
  {
   "cell_type": "markdown",
   "metadata": {},
   "source": [
    "# Significance tests\n",
    "\n",
    "H<sub>0</sub> : Words from wordlist are equally likely to occur in truthful and deceptive statements\n",
    "\n",
    "H<sub>A</sub> : Words from wordlist occur in truthful and deceptive statements with different probability\n",
    "\n",
    "\n",
    "**Sample**:  measure the proportion truthful/deceptive in the data\n",
    "\n",
    "**Simulation**:  Generate 1000 pairs of 160 docs, randomly inserting words of interest according to the probability with which they occur in the text according to H<sub>0</sub>.  Of course, this kind of simulation is rather naïve, since actual language places a lot more constraints on the simulation.  Theoretically, an advanced generative model could be used to generate better data.  However, such simulation may be skewed, because generative models are typically trained on truthful data.\n",
    "\n",
    "**Assumption**:  If less than 1% of the simulations show a truthful/deceptive proportion equal to or less (or greater, for proportions > 1) than the measured one, reject H<sub>0</sub>\n",
    "\n",
    "If H<sub>0</sub> is rejected, the feature can be used to predict the veracity of a statement"
   ]
  },
  {
   "cell_type": "code",
   "execution_count": 4,
   "metadata": {},
   "outputs": [],
   "source": [
    "#generate a set of \"truthful\" and \"deceptive\" \"documents\" with the same number of words\n",
    "#count \"occurrences\" of a \"word\" that has a probability prob to appear in a \"document\"\n",
    "def simstat(numdoc, numwords, prob):\n",
    "  tcount = 0\n",
    "\n",
    "  for i in range(numdoc):\n",
    "      for j in range(numwords):\n",
    "        if(random.uniform(0, 1) < prob):\n",
    "          tcount += 1\n",
    "  return tcount\n",
    "\n",
    "#simulation:  1000 times generate 2 random documents, each containing words_per_doc\n",
    "\n",
    "\n",
    "def simulation(numdoc, numwords, prob):\n",
    "\n",
    "  sim = []\n",
    "  for k in range(1000):\n",
    "    sim.append(simstat(numdoc, int(words_per_doc), prob) /\n",
    "               simstat(numdoc, int(words_per_doc), prob))\n",
    "  return sim\n"
   ]
  },
  {
   "cell_type": "code",
   "execution_count": 5,
   "metadata": {},
   "outputs": [],
   "source": [
    "import matplotlib.pyplot as plt\n",
    "import numpy as np\n",
    "%matplotlib inline\n",
    "\n",
    "\n",
    "def visualizeSimulation(sim, measured_proportion):\n",
    "  #sort sim\n",
    "  sim = sorted(sim)\n",
    "\n",
    "  bottom = sim[int(0.01*len(sim))]\n",
    "  top = sim[int(0.99*len(sim))]\n",
    "\n",
    "  #count members of sim that are below the measured proportion\n",
    "  below = sum(map(lambda x: x < measured_proportion, sim))\n",
    "  #above = sum(map(lambda x: x > 1/measured_proportion, sim))\n",
    "\n",
    "  alpha = 0.01\n",
    "  pfactor = below/len(sim)\n",
    "\n",
    "  plt.hist(sim, density=False, bins=30)  # density=False would make counts\n",
    "  plt.ylabel('Frequency')\n",
    "  plt.xlabel('Proportion')\n",
    "  plt.show()\n",
    "\n",
    "  print(\n",
    "      f\"Probability of getting a ratio at or below {measured_proportion:.2f}: {pfactor*100:.2f}%\")\n",
    "\n",
    "  if pfactor < alpha:\n",
    "    printmd(\"Feature can be used for veracity assessment\\n\", color=\"green\")\n",
    "  else:\n",
    "    printmd(\"Feature cannot be used for veracity assessment\\n\", color=\"red\")\n",
    "    \n",
    "\n"
   ]
  },
  {
   "cell_type": "markdown",
   "metadata": {},
   "source": [
    "# Extract a few language features that Pennebaker claims can be used to assess veracity of written text.\n",
    "\n",
    "The built-in \"count_by\" method of spaCy cannot be used because we want the ability to count not just spacific POS, but specific POS that are also a part of a short list.  For example, from the auxilliary verb group we only care about the modal verbs.  As it turns out, further splitting that group into two yields a really good results in terms of distribution between deceptive and truthful statements.\n",
    "\n",
    "The idea is to count the occurences of members of each feature group in deceptive as well as truthful statements, and if they are unbalanced, perform a significance test."
   ]
  },
  {
   "cell_type": "code",
   "execution_count": 6,
   "metadata": {},
   "outputs": [],
   "source": [
    "import matplotlib.pyplot as plt\n",
    "from spacy.tokens import Doc\n",
    "\n",
    "def count_words(doc, type, wordlist):\n",
    "    alloftype = [token.lower_ for token in doc if token.pos_ == type]\n",
    "    \n",
    "    if wordlist:\n",
    "        alloftype = [x for x in alloftype if x in wordlist]\n",
    "\n",
    "    return sum(Counter(alloftype).values())\n"
   ]
  },
  {
   "cell_type": "code",
   "execution_count": 7,
   "metadata": {},
   "outputs": [
    {
     "data": {
      "text/markdown": [
       "<span style='color:Black'>\n",
       "\n",
       "## **i-words:** Truthful 1303 Deceptive 1208</span>"
      ],
      "text/plain": [
       "<IPython.core.display.Markdown object>"
      ]
     },
     "metadata": {},
     "output_type": "display_data"
    },
    {
     "data": {
      "image/png": "[encoded data removed]",
      "text/plain": [
       "<Figure size 432x288 with 1 Axes>"
      ]
     },
     "metadata": {},
     "output_type": "display_data"
    },
    {
     "data": {
      "image/png": "[encoded data removed]",
      "text/plain": [
       "<Figure size 432x288 with 1 Axes>"
      ]
     },
     "metadata": {
      "needs_background": "light"
     },
     "output_type": "display_data"
    },
    {
     "name": "stdout",
     "output_type": "stream",
     "text": [
      "Probability of getting a ratio at or below 0.93: 0.20%\n"
     ]
    },
    {
     "data": {
      "text/markdown": [
       "<span style='color:green'>Feature can be used for veracity assessment\n",
       "</span>"
      ],
      "text/plain": [
       "<IPython.core.display.Markdown object>"
      ]
     },
     "metadata": {},
     "output_type": "display_data"
    },
    {
     "data": {
      "text/markdown": [
       "<span style='color:Black'>\n",
       "\n",
       "## **verbs:** Truthful 2625 Deceptive 2742</span>"
      ],
      "text/plain": [
       "<IPython.core.display.Markdown object>"
      ]
     },
     "metadata": {},
     "output_type": "display_data"
    },
    {
     "data": {
      "image/png": "[encoded data removed]",
      "text/plain": [
       "<Figure size 432x288 with 1 Axes>"
      ]
     },
     "metadata": {},
     "output_type": "display_data"
    },
    {
     "data": {
      "image/png": "[encoded data removed]",
      "text/plain": [
       "<Figure size 432x288 with 1 Axes>"
      ]
     },
     "metadata": {
      "needs_background": "light"
     },
     "output_type": "display_data"
    },
    {
     "name": "stdout",
     "output_type": "stream",
     "text": [
      "Probability of getting a ratio at or below 0.96: 1.10%\n"
     ]
    },
    {
     "data": {
      "text/markdown": [
       "<span style='color:red'>Feature cannot be used for veracity assessment\n",
       "</span>"
      ],
      "text/plain": [
       "<IPython.core.display.Markdown object>"
      ]
     },
     "metadata": {},
     "output_type": "display_data"
    },
    {
     "data": {
      "text/markdown": [
       "<span style='color:Black'>\n",
       "\n",
       "## **articles:** Truthful 686 Deceptive 672</span>"
      ],
      "text/plain": [
       "<IPython.core.display.Markdown object>"
      ]
     },
     "metadata": {},
     "output_type": "display_data"
    },
    {
     "data": {
      "image/png": "[encoded data removed]",
      "text/plain": [
       "<Figure size 432x288 with 1 Axes>"
      ]
     },
     "metadata": {},
     "output_type": "display_data"
    },
    {
     "data": {
      "image/png": "[encoded data removed]",
      "text/plain": [
       "<Figure size 432x288 with 1 Axes>"
      ]
     },
     "metadata": {
      "needs_background": "light"
     },
     "output_type": "display_data"
    },
    {
     "name": "stdout",
     "output_type": "stream",
     "text": [
      "Probability of getting a ratio at or below 0.98: 30.40%\n"
     ]
    },
    {
     "data": {
      "text/markdown": [
       "<span style='color:red'>Feature cannot be used for veracity assessment\n",
       "</span>"
      ],
      "text/plain": [
       "<IPython.core.display.Markdown object>"
      ]
     },
     "metadata": {},
     "output_type": "display_data"
    },
    {
     "data": {
      "text/markdown": [
       "<span style='color:Black'>\n",
       "\n",
       "## **modal verbs 1:** Truthful 40 Deceptive 25</span>"
      ],
      "text/plain": [
       "<IPython.core.display.Markdown object>"
      ]
     },
     "metadata": {},
     "output_type": "display_data"
    },
    {
     "data": {
      "image/png": "[encoded data removed]",
      "text/plain": [
       "<Figure size 432x288 with 1 Axes>"
      ]
     },
     "metadata": {},
     "output_type": "display_data"
    },
    {
     "data": {
      "image/png": "[encoded data removed]",
      "text/plain": [
       "<Figure size 432x288 with 1 Axes>"
      ]
     },
     "metadata": {
      "needs_background": "light"
     },
     "output_type": "display_data"
    },
    {
     "name": "stdout",
     "output_type": "stream",
     "text": [
      "Probability of getting a ratio at or below 0.62: 0.10%\n"
     ]
    },
    {
     "data": {
      "text/markdown": [
       "<span style='color:green'>Feature can be used for veracity assessment\n",
       "</span>"
      ],
      "text/plain": [
       "<IPython.core.display.Markdown object>"
      ]
     },
     "metadata": {},
     "output_type": "display_data"
    },
    {
     "data": {
      "text/markdown": [
       "<span style='color:Black'>\n",
       "\n",
       "## **modal verbs 2:** Truthful 41 Deceptive 75</span>"
      ],
      "text/plain": [
       "<IPython.core.display.Markdown object>"
      ]
     },
     "metadata": {},
     "output_type": "display_data"
    },
    {
     "data": {
      "image/png": "[encoded data removed]",
      "text/plain": [
       "<Figure size 432x288 with 1 Axes>"
      ]
     },
     "metadata": {},
     "output_type": "display_data"
    },
    {
     "data": {
      "image/png": "[encoded data removed]",
      "text/plain": [
       "<Figure size 432x288 with 1 Axes>"
      ]
     },
     "metadata": {
      "needs_background": "light"
     },
     "output_type": "display_data"
    },
    {
     "name": "stdout",
     "output_type": "stream",
     "text": [
      "Probability of getting a ratio at or below 0.55: 0.00%\n"
     ]
    },
    {
     "data": {
      "text/markdown": [
       "<span style='color:green'>Feature can be used for veracity assessment\n",
       "</span>"
      ],
      "text/plain": [
       "<IPython.core.display.Markdown object>"
      ]
     },
     "metadata": {},
     "output_type": "display_data"
    },
    {
     "data": {
      "text/markdown": [
       "<span style='color:Black'>\n",
       "\n",
       "## **cognitive verbs:** Truthful 170 Deceptive 211</span>"
      ],
      "text/plain": [
       "<IPython.core.display.Markdown object>"
      ]
     },
     "metadata": {},
     "output_type": "display_data"
    },
    {
     "data": {
      "image/png": "[encoded data removed]",
      "text/plain": [
       "<Figure size 432x288 with 1 Axes>"
      ]
     },
     "metadata": {},
     "output_type": "display_data"
    },
    {
     "data": {
      "image/png": "[encoded data removed]",
      "text/plain": [
       "<Figure size 432x288 with 1 Axes>"
      ]
     },
     "metadata": {
      "needs_background": "light"
     },
     "output_type": "display_data"
    },
    {
     "name": "stdout",
     "output_type": "stream",
     "text": [
      "Probability of getting a ratio at or below 0.81: 0.00%\n"
     ]
    },
    {
     "data": {
      "text/markdown": [
       "<span style='color:green'>Feature can be used for veracity assessment\n",
       "</span>"
      ],
      "text/plain": [
       "<IPython.core.display.Markdown object>"
      ]
     },
     "metadata": {},
     "output_type": "display_data"
    },
    {
     "data": {
      "text/markdown": [
       "<span style='color:Black'>\n",
       "\n",
       "## **interjections:** Truthful 710 Deceptive 725</span>"
      ],
      "text/plain": [
       "<IPython.core.display.Markdown object>"
      ]
     },
     "metadata": {},
     "output_type": "display_data"
    },
    {
     "data": {
      "image/png": "[encoded data removed]",
      "text/plain": [
       "<Figure size 432x288 with 1 Axes>"
      ]
     },
     "metadata": {},
     "output_type": "display_data"
    },
    {
     "data": {
      "image/png": "[encoded data removed]",
      "text/plain": [
       "<Figure size 432x288 with 1 Axes>"
      ]
     },
     "metadata": {
      "needs_background": "light"
     },
     "output_type": "display_data"
    },
    {
     "name": "stdout",
     "output_type": "stream",
     "text": [
      "Probability of getting a ratio at or below 0.98: 27.60%\n"
     ]
    },
    {
     "data": {
      "text/markdown": [
       "<span style='color:red'>Feature cannot be used for veracity assessment\n",
       "</span>"
      ],
      "text/plain": [
       "<IPython.core.display.Markdown object>"
      ]
     },
     "metadata": {},
     "output_type": "display_data"
    }
   ],
   "source": [
    "\n",
    "featureTypes=[\n",
    "    {\n",
    "        'name':'i-words',\n",
    "        'POS':'PRON',\n",
    "        'wordlist': ['we','i', 'me', 'myself', 'my', 'mine'],\n",
    "        'tcount':0,\n",
    "        'fcount':0,\n",
    "        'indicates':None\n",
    "    },\n",
    "    {\n",
    "        'name': 'verbs',\n",
    "        'POS': 'VERB',\n",
    "        'wordlist': None,\n",
    "        'tcount': 0,\n",
    "        'fcount': 0,\n",
    "        'indicates': None\n",
    "    },\n",
    "    {\n",
    "        'name': 'articles',\n",
    "        'POS': 'DET',\n",
    "        'wordlist': ['a', 'an', 'the'],\n",
    "        'tcount':0,\n",
    "        'fcount':0,\n",
    "        'indicates':None\n",
    "    },\n",
    "    {\n",
    "        'name': 'modal verbs 1',\n",
    "        'POS': 'AUX',\n",
    "        'wordlist': [\"could\", \"should\"], \n",
    "        'tcount': 0,\n",
    "        'fcount': 0,\n",
    "        'indicates':None\n",
    "    },\n",
    "    {\n",
    "        'name': 'modal verbs 2',\n",
    "        'POS': 'AUX',\n",
    "        'wordlist': [\"would\", \"may\"],\n",
    "        'tcount': 0,\n",
    "        'fcount': 0,\n",
    "        'indicates':None\n",
    "    },\n",
    "    {\n",
    "        'name': 'cognitive verbs',\n",
    "        'POS': 'VERB',\n",
    "        'wordlist': ['realize' , 'think', 'understand', 'figure', 'derive', \"know\", \"believe\", \"recognize\", \"appreciates\"],\n",
    "        'tcount': 0,\n",
    "        'fcount': 0,\n",
    "        'indicates':None\n",
    "    },\n",
    "    {\n",
    "        'name': 'interjections',\n",
    "        'POS': 'INTJ',\n",
    "        'wordlist': None,\n",
    "        'tcount': 0,\n",
    "        'fcount': 0,\n",
    "        'indicates': None\n",
    "    }\n",
    "]\n",
    "\n",
    "twcount = 0\n",
    "fwcount = 0\n",
    "\n",
    "docs = []\n",
    "labels = []\n",
    "\n",
    "for index, row in df.iterrows():\n",
    "    text = row['Transcription']\n",
    "    doc = nlp(text)\n",
    "    docs.append(doc)\n",
    "    labels.append(row['Type'])\n",
    "\n",
    "\n",
    "cdoc = Doc.from_docs(docs)\n",
    "\n",
    "for doc, label in zip(docs, labels):\n",
    "    for feature in featureTypes:\n",
    "        if label == 'Truthful':\n",
    "            feature['tcount'] += count_words(doc, feature['POS'], feature['wordlist'])\n",
    "        else:\n",
    "            feature['fcount'] += count_words(doc, feature['POS'], feature['wordlist'])\n",
    "\n",
    "    if label == 'Truthful':\n",
    "        twcount += len(doc)  \n",
    "    else:\n",
    "        fwcount += len(doc) \n",
    "\n",
    "numdocs = len(docs)\n",
    "total_wordcount = twcount + fwcount\n",
    "words_per_doc = total_wordcount/len(docs)\n",
    "\n",
    "for feature in featureTypes:\n",
    "  listlen = len(feature['wordlist']) if feature['wordlist'] else 1\n",
    "  global_occurences = feature['tcount'] + feature['fcount']\n",
    "  visualizeFeature(feature['name'], feature['tcount'], feature['fcount'])\n",
    "  prob = global_occurences/total_wordcount\n",
    "  sim = simulation(numdocs, words_per_doc, prob)\n",
    "  measured_proportion = feature['tcount']/feature['fcount']\n",
    "  if measured_proportion > 1. :\n",
    "    measured_proportion = 1./measured_proportion\n",
    "    feature['indicates'] = 'truthful'\n",
    "  else:\n",
    "    feature['indicates'] = 'deceptive'\n",
    "    \n",
    "  visualizeSimulation(sim, measured_proportion)\n",
    "\n"
   ]
  },
  {
   "cell_type": "markdown",
   "metadata": {},
   "source": [
    "Next steps:  construct features by checking for the presence of multiple significant words in a statement.  \n",
    "\n",
    "Perhaps add a score, either 1 for each significant word present, or assign different weight based on the calculated significance "
   ]
  },
  {
   "cell_type": "code",
   "execution_count": 8,
   "metadata": {},
   "outputs": [],
   "source": [
    "def pos_list(doc, pos):\n",
    "    pos_list = [token.lemma for token in doc if token.pos_ == pos]\n",
    "    return Counter(pos_list)\n",
    "\n",
    "\n",
    "def rwratio(lieword, trueword, counter):\n",
    "    right = 0\n",
    "    wrong = 0\n",
    "\n",
    "    if counter[lieword] > counter[trueword] and label == 'Truthful':\n",
    "        wrong += 1\n",
    "    elif counter[lieword] < counter[trueword] and label == 'Deceptive':\n",
    "        wrong += 1\n",
    "    elif counter[lieword] != counter[trueword]:\n",
    "        right += 1\n",
    "    return right, wrong\n"
   ]
  },
  {
   "cell_type": "code",
   "execution_count": 30,
   "metadata": {},
   "outputs": [
    {
     "name": "stdout",
     "output_type": "stream",
     "text": [
      "Right: 126\n",
      "Wrong: 94\n",
      "Accuracy: 57.27%\n"
     ]
    }
   ],
   "source": [
    "\n",
    "\n",
    "MINSCORE = 0 \n",
    "def veval(doc, features):\n",
    "\n",
    "  tscore = 0\n",
    "  fscore = 0\n",
    "\n",
    "  for feature in features:\n",
    "    fcount = count_words(doc, feature['POS'], feature['wordlist'])\n",
    "    if feature['indicates'] == 'truthful':\n",
    "      tscore += fcount\n",
    "    else:\n",
    "      fscore += fcount\n",
    "      #print(f\"{feature['name']} {fcount}\")\n",
    "\n",
    "  score = tscore - fscore/2 #compensate for the feature set being unbalanced\n",
    "\n",
    "  if score == 0:\n",
    "    return score\n",
    "  elif score > 0:\n",
    "    return 'Truthful'\n",
    "  else:\n",
    "    return 'Deceptive'\n",
    "\n",
    "\n",
    "\n",
    "right = 0\n",
    "wrong = 0\n",
    "\n",
    "usable_features = ['modal verbs 1', 'modal verbs 2', 'cognitive verbs']\n",
    "features = [x for x in featureTypes if x['name'] in usable_features]\n",
    "\n",
    "for doc, label in zip(docs, labels):\n",
    "    score = veval(doc, features)\n",
    "    if score != 0:\n",
    "      if score == label:\n",
    "        right += 1\n",
    "      else:\n",
    "        wrong += 1\n",
    "\n",
    "print(f\"Right: {right}\")\n",
    "print(f\"Wrong: {wrong}\")\n",
    "print(f\"Accuracy: {right/(right+wrong)*100:.2f}%\")\n",
    "\n",
    "\n",
    "\n",
    "\n",
    "\n",
    "    "
   ]
  },
  {
   "cell_type": "code",
   "execution_count": null,
   "metadata": {},
   "outputs": [],
   "source": []
  }
 ],
 "metadata": {
  "kernelspec": {
   "display_name": "Python 3 (ipykernel)",
   "language": "python",
   "name": "python3"
  }
 },
 "nbformat": 4,
 "nbformat_minor": 1
}
