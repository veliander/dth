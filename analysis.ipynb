{
 "cells": [
  {
   "cell_type": "code",
   "execution_count": 1,
   "metadata": {
    "collapsed": false,
    "pycharm": {
     "name": "#%%\n"
    }
   },
   "outputs": [],
   "source": [
    "#!conda install -c conda-forge spacy\n",
    "# packages only available via pip\n",
    "#!pip install spacy-transformers\n",
    "#!pip install spacy-lookups-data\n",
    "#!python -m spacy download en_core_web_sm\n"
   ]
  },
  {
   "cell_type": "code",
   "execution_count": 2,
   "metadata": {
    "collapsed": true
   },
   "outputs": [
    {
     "data": {
      "text/html": [
       "<table border=\"1\" class=\"dataframe\">\n",
       "  <thead>\n",
       "    <tr style=\"text-align: right;\">\n",
       "      <th></th>\n",
       "      <th>Type</th>\n",
       "      <th>Transcription</th>\n",
       "    </tr>\n",
       "  </thead>\n",
       "  <tbody>\n",
       "    <tr>\n",
       "      <th>51</th>\n",
       "      <td>Deceptive</td>\n",
       "      <td>She constantly cheats at games she doesn’t return my clothes when she borrows them she doesn’t really try hard in school, I think that she just gets people to do her homework for her or she will look off of other people’s tests when she’s taking them.  She doesn’t typically do what she says she’s going to.  She will tell me that she’s going to call me and then she never does.  She has cheated on her significant others in the past she’s not very honest most of the time, she’s kind of a sore loser she doesn’t like to no win and she a lot of the time will do whatever it takes to win, like cheating.</td>\n",
       "    </tr>\n",
       "    <tr>\n",
       "      <th>108</th>\n",
       "      <td>Deceptive</td>\n",
       "      <td>My good friend at home, um we grew up as best friends, we were inseparable, we were always together, we played basketball together, we uh we went to high school together, we played basketball together, we played on travel teams together, we when we went to college we went separate ways um he plays for division one university elsewhere, I play club basketball here, so like even until today we we text we talk on the phone all the time like we compare stats we joke around with ___ stats, who’s doing better, who’s doing worse, um when we go home we hang out, uh we we party together, like he’s always had my back I’ve always had his back, if he needs anything or if I need anything we’re always hear for each other</td>\n",
       "    </tr>\n",
       "    <tr>\n",
       "      <th>152</th>\n",
       "      <td>Deceptive</td>\n",
       "      <td>This person was actually one of, uh, my two best friends. So, there were three of us and we would always, we were always either at this person or my other friend’s house. And actually at this person’s house, um, was the first time that I saw Austin Powers and I thought I was so cool for, um, for seeing Austin Powers because at the time I was, I was 12 or 11 or something like that and it was PG-13 and I thought it was so cool getting away with it because my parents didn't want me to know it, uh, or my parents didn’t want me to see it, I guess I should say. Uh, but yeah, we would always play ping-pong. Watch, like, R-rated movies at their house and, like, talk about girls, like, go to the movies. Like, when Transformers came out, like, oh, that was the best.</td>\n",
       "    </tr>\n",
       "    <tr>\n",
       "      <th>308</th>\n",
       "      <td>Truthful</td>\n",
       "      <td>We met in fifth fifth grade, fourth grade at school. Um, we weren’t great friends at first, but, uh, we both joined the school band, which was really small and not very good, but we were both, uh, drummers so we sort of bonded that way. We had a lot of common interests like, uh, you know, anime sort of stuff, you know, Yu-Gi-Oh and Naruto, that kind of thing and we’ve we’ve kind of grown out of that, obviously. But we still, uh, we hang out a lot. Um, he doesn’t go here, he goes to NKU but we talk a lot about, you know, things like music, movies, that sort of stuff.</td>\n",
       "    </tr>\n",
       "    <tr>\n",
       "      <th>277</th>\n",
       "      <td>Truthful</td>\n",
       "      <td>Uh, this person is one of my best friends. Uh, I consider him like family. Uh, we’ve been friends for about 12 or 13 years now. We’re very, very close. We speak almost on an everyday basis. Uh, one of the reasons that we’re so close is not just because we grew up together, but we also have similar interests in different type of things. Um, this person is a very good listener. Um, we share the same personality traits, we’re both mean, terrible people sometimes, but we’re really nice, uh, overall. Uh, I consider this person like family just ‘cause of how they been there for me and what they’ve been able to do in my life.</td>\n",
       "    </tr>\n",
       "    <tr>\n",
       "      <th>137</th>\n",
       "      <td>Deceptive</td>\n",
       "      <td>This girl and I um we share clothes all the time, it’s awesome, she has such great style and she doesn’t mind me raiding her closet and you know trying on her stuff, we talk all the time um we do go to different schools but it’s like we never miss a beat you know she’s always there for me when I need her um love talking to her, she’s always like really listens and always knows exactly what to say um you know we shared in the same activities in high school so like I loved being around her and like helping each other out like you know she’d help her with my cheer jobs, I’d help her with her motion so it was really nice having her around.</td>\n",
       "    </tr>\n",
       "    <tr>\n",
       "      <th>255</th>\n",
       "      <td>Truthful</td>\n",
       "      <td>I met this girl freshmen year, um, she came to my room to ask how to, uh, fix her cable and we just became best friends ever since. Um, I could talk to her about anything, we can do anything together we just relate to each other on a different level. Um, I love going to get food with her. We love getting food together and hanging out, doing homework. She motivates me to get my work done and stay on task at school. Um, she’s just very smart and I love everything about her.</td>\n",
       "    </tr>\n",
       "    <tr>\n",
       "      <th>94</th>\n",
       "      <td>Deceptive</td>\n",
       "      <td>So this person, um, she’s really nice. She takes the time to see if people are okay and, um, is extremely selfless. Um, they, this person, um, will randomly text you and say “how are you today” or something like that and they, um, always look out for others other than themselves.</td>\n",
       "    </tr>\n",
       "    <tr>\n",
       "      <th>145</th>\n",
       "      <td>Deceptive</td>\n",
       "      <td>So I have a friend and ya don’t really ya know get to know her very well at first just cause she’s pretty quiet an dya know not very outspoken. But like the more tha you really get to know her um you find out that she’s like really nice really fair-minded. Um she can she um she’s she she’s from a fairly conservative background and ya know a lot of those are considered fairly ya know rigid and strict kinda closed-minded people but she’s like totally the opposite of that.</td>\n",
       "    </tr>\n",
       "    <tr>\n",
       "      <th>20</th>\n",
       "      <td>Deceptive</td>\n",
       "      <td>We met in kindergarten and he pretended to be my friend ‘til, he just used to tattle on me all the time. We grew up together, we lived really close to each other. He went to my high school, middle school, and elementary and we just never got along. Funny thing was we played all the same sports. I played soccer, he played soccer, he never passed me the ball. I played lacrosse, he played lacrosse, as well. Though he was on defense and I was on offense, at practice he would always hit me and I don’t know what it was, he just never seemed to get along with me. I tried to be his friend and he just never really wanted me.</td>\n",
       "    </tr>\n",
       "  </tbody>\n",
       "</table>"
      ],
      "text/plain": [
       "<IPython.core.display.HTML object>"
      ]
     },
     "metadata": {},
     "output_type": "display_data"
    }
   ],
   "source": [
    "import pandas as pd\n",
    "import spacy\n",
    "from IPython.display import display, HTML\n",
    "fname = 'dataset.xlsx'\n",
    "df = pd.read_excel(fname)\n",
    "display(HTML(df.sample(10).to_html()))\n"
   ]
  },
  {
   "cell_type": "code",
   "execution_count": 3,
   "metadata": {
    "collapsed": false,
    "pycharm": {
     "name": "#%%\n"
    }
   },
   "outputs": [],
   "source": [
    "from collections import Counter\n",
    "\n",
    "right=0\n",
    "wrong=0\n",
    "\n",
    "\n",
    "nlp = spacy.load(\"en_core_web_sm\")\n",
    "\n",
    "def pos_list(doc, pos):\n",
    "    pos_list = [token.lemma for token in doc if token.pos_ == pos]\n",
    "    return Counter(pos_list)\n",
    "\n",
    "def rwratio(lieword, trueword, counter):\n",
    "    right = 0\n",
    "    wrong = 0\n",
    "\n",
    "    if counter[lieword] > counter[trueword] and label == 'Truthful':\n",
    "        wrong += 1\n",
    "    elif counter[lieword] < counter[trueword] and label == 'Deceptive':\n",
    "        wrong += 1\n",
    "    elif counter[lieword] != counter[trueword]:\n",
    "        right += 1\n",
    "    return right, wrong\n",
    "\n",
    "def visualizeFeature(name, tcount, fcount):\n",
    "    labels = ['Truthful', 'Deceptive']\n",
    "    sizes = [tcount, fcount]\n",
    "    fig1, ax1 = plt.subplots()\n",
    "    ax1.pie(sizes, labels=labels, autopct='%1.1f%%',\n",
    "            shadow=True, startangle=90, textprops={'color': \"black\"})\n",
    "    plt.show()\n",
    "    print(\n",
    "        f\"{name} {labels[0]} {tcount} {labels[1]} {fcount}\")\n"
   ]
  },
  {
   "cell_type": "code",
   "execution_count": 4,
   "metadata": {},
   "outputs": [
    {
     "data": {
      "image/png": "[encoded data removed]",
      "text/plain": [
       "<Figure size 432x288 with 1 Axes>"
      ]
     },
     "metadata": {},
     "output_type": "display_data"
    },
    {
     "name": "stdout",
     "output_type": "stream",
     "text": [
      "cognitive verbs Truthful 47 Deceptive 50\n"
     ]
    },
    {
     "data": {
      "image/png": "[encoded data removed]",
      "text/plain": [
       "<Figure size 432x288 with 1 Axes>"
      ]
     },
     "metadata": {},
     "output_type": "display_data"
    },
    {
     "name": "stdout",
     "output_type": "stream",
     "text": [
      "interjections Truthful 710 Deceptive 725\n"
     ]
    },
    {
     "data": {
      "image/png": "[encoded data removed]",
      "text/plain": [
       "<Figure size 432x288 with 1 Axes>"
      ]
     },
     "metadata": {},
     "output_type": "display_data"
    },
    {
     "name": "stdout",
     "output_type": "stream",
     "text": [
      "total Truthful 20022 Deceptive 20485\n"
     ]
    }
   ],
   "source": [
    "import matplotlib.pyplot as plt\n",
    "\n",
    "def count_words(doc, type, wordlist):\n",
    "    alloftype = [token.lower_ for token in doc if token.pos_ == type]\n",
    "    \n",
    "    if wordlist:\n",
    "        alloftype = [x for x in alloftype if x in wordlist]\n",
    "\n",
    "    return sum(Counter(alloftype).values())\n",
    "\n",
    "\n",
    "\n",
    "\n",
    "featureTypes=[\n",
    "    # {\n",
    "    #     'name':'i-words',\n",
    "    #     'POS':'PRON',\n",
    "    #     'wordlist': ['we','i', 'me', 'myself', 'my', 'mine'],\n",
    "    #     'tcount':0,\n",
    "    #     'fcount':0\n",
    "    # },\n",
    "    # {\n",
    "    #     'name': 'verbs',\n",
    "    #     'POS': 'VERB',\n",
    "    #     'wordlist': None,\n",
    "    #     'tcount': 0,\n",
    "    #     'fcount': 0\n",
    "    # },\n",
    "    # {\n",
    "    #     'name': 'articles',\n",
    "    #     'POS': 'DET',\n",
    "    #     'wordlist': ['a', 'an', 'the'],\n",
    "    #     'tcount':0,\n",
    "    #     'fcount':0\n",
    "    # },\n",
    "    # {\n",
    "    #     'name': 'modal verbs',\n",
    "    #     'POS': 'AUX',\n",
    "    #     'wordlist': None,\n",
    "    #     'tcount': 0,\n",
    "    #     'fcount': 0\n",
    "    # },\n",
    "    {\n",
    "        'name': 'cognitive verbs',\n",
    "        'POS': 'VERB',\n",
    "        'wordlist': ['realize', 'think', 'understand'],\n",
    "        'tcount': 0,\n",
    "        'fcount': 0\n",
    "    },\n",
    "    {\n",
    "        'name': 'interjections',\n",
    "        'POS': 'INTJ',\n",
    "        'wordlist': None,\n",
    "        'tcount': 0,\n",
    "        'fcount': 0\n",
    "    }\n",
    "]\n",
    "\n",
    "\n",
    "twcount = 0\n",
    "fwcount = 0\n",
    "\n",
    "for index, row in df.iterrows():\n",
    "    text = row['Transcription']\n",
    "    doc = nlp(text)\n",
    "    label = row['Type']\n",
    "     \n",
    "\n",
    "\n",
    "\n",
    "    for feature in featureTypes:\n",
    "        if label == 'Truthful':\n",
    "            feature['tcount'] += count_words(doc, feature['POS'], feature['wordlist'])\n",
    "        else:\n",
    "            feature['fcount'] += count_words(doc, feature['POS'], feature['wordlist'])\n",
    "\n",
    "    if label == 'Truthful':\n",
    "        twcount += len(doc)  \n",
    "    else:\n",
    "        fwcount += len(doc) \n",
    "     \n",
    "\n",
    "for feature in featureTypes:\n",
    "  visualizeFeature(feature['name'], feature['tcount'], feature['fcount'])\n",
    "\n",
    "visualizeFeature('total', twcount, fwcount)\n",
    "\n",
    "\n",
    "\n",
    "\n"
   ]
  },
  {
   "cell_type": "code",
   "execution_count": 11,
   "metadata": {
    "collapsed": false,
    "pycharm": {
     "name": "#%%\n"
    }
   },
   "outputs": [
    {
     "name": "stderr",
     "output_type": "stream",
     "text": [
      "> INFO    🗝 Successfully logged in as veliander\n",
      "> INFO    🗝 Storing credentials in:  /Users/mpd/.autonlp\n",
      "> INFO    🤙 Project 'lie_detection' already exists, it was loaded successfully.\n",
      "> INFO    🔄 Refreshing project status...\n",
      "> INFO    🔄 Refreshing uploaded files information...\n",
      "> INFO    🔄 Refreshing models information...\n",
      "> INFO    🔄 Refreshing cost information...\n"
     ]
    }
   ],
   "source": [
    "from autonlp import AutoNLP\n",
    "client = AutoNLP()\n",
    "client.login(token=\"api_SZNQbwgFYpJfCPBtJChPznmiWqHrTWtpRm\")\n",
    "\n",
    "project = client.create_project(name=\"lie_detection\", task=\"binary_classification\", language=\"en\", max_models=5)\n"
   ]
  },
  {
   "cell_type": "code",
   "execution_count": 15,
   "metadata": {},
   "outputs": [
    {
     "name": "stderr",
     "output_type": "stream",
     "text": [
      "> INFO    🔄 Refreshing project status...\n",
      "> INFO    🔄 Refreshing uploaded files information...\n",
      "> INFO    🔄 Refreshing models information...\n",
      "> INFO    🔄 Refreshing cost information...\n",
      "> INFO    🔎 Calculating a cost estimate for the training...\n"
     ]
    },
    {
     "name": "stdout",
     "output_type": "stream",
     "text": [
      "\n",
      "💰 The training cost for this project will be in this range:\n",
      " \u001b[1mUSD 7.5 to USD 12.5\u001b[0m\n",
      "\n",
      " Once training is complete, we will send you an email invoice for the actual training cost within that range.\n",
      "\n"
     ]
    },
    {
     "ename": "KeyboardInterrupt",
     "evalue": "Interrupted by user",
     "output_type": "error",
     "traceback": [
      "\u001b[0;31m---------------------------------------------------------------------------\u001b[0m",
      "\u001b[0;31mKeyboardInterrupt\u001b[0m                         Traceback (most recent call last)",
      "\u001b[0;32m/var/folders/h8/pb8xz0w550g1lbkc6ljr1l0r0000gr/T/ipykernel_32429/380197386.py\u001b[0m in \u001b[0;36m<module>\u001b[0;34m\u001b[0m\n\u001b[0;32m----> 1\u001b[0;31m \u001b[0mproject\u001b[0m\u001b[0;34m.\u001b[0m\u001b[0mtrain\u001b[0m\u001b[0;34m(\u001b[0m\u001b[0;34m)\u001b[0m\u001b[0;34m\u001b[0m\u001b[0;34m\u001b[0m\u001b[0m\n\u001b[0m\u001b[1;32m      2\u001b[0m \u001b[0mproject\u001b[0m\u001b[0;34m.\u001b[0m\u001b[0mrefresh\u001b[0m\u001b[0;34m(\u001b[0m\u001b[0;34m)\u001b[0m\u001b[0;34m\u001b[0m\u001b[0;34m\u001b[0m\u001b[0m\n\u001b[1;32m      3\u001b[0m \u001b[0mprint\u001b[0m\u001b[0;34m(\u001b[0m\u001b[0mproject\u001b[0m\u001b[0;34m)\u001b[0m\u001b[0;34m\u001b[0m\u001b[0;34m\u001b[0m\u001b[0m\n",
      "\u001b[0;32m~/opt/anaconda3/envs/d.a.t.a/lib/python3.8/site-packages/autonlp/project.py\u001b[0m in \u001b[0;36mtrain\u001b[0;34m(self, noprompt)\u001b[0m\n\u001b[1;32m    330\u001b[0m \u001b[0;34m\u001b[0m\u001b[0m\n\u001b[1;32m    331\u001b[0m         \u001b[0;32mif\u001b[0m \u001b[0;32mnot\u001b[0m \u001b[0mnoprompt\u001b[0m\u001b[0;34m:\u001b[0m\u001b[0;34m\u001b[0m\u001b[0;34m\u001b[0m\u001b[0m\n\u001b[0;32m--> 332\u001b[0;31m             \u001b[0manswer\u001b[0m \u001b[0;34m=\u001b[0m \u001b[0minput\u001b[0m\u001b[0;34m(\u001b[0m\u001b[0;34mf\"Enter `{BOLD_TAG}yes{RESET_TAG}` to proceed with the training:  \"\u001b[0m\u001b[0;34m)\u001b[0m\u001b[0;34m\u001b[0m\u001b[0;34m\u001b[0m\u001b[0m\n\u001b[0m\u001b[1;32m    333\u001b[0m             \u001b[0;32mif\u001b[0m \u001b[0manswer\u001b[0m\u001b[0;34m.\u001b[0m\u001b[0mlower\u001b[0m\u001b[0;34m(\u001b[0m\u001b[0;34m)\u001b[0m \u001b[0;34m!=\u001b[0m \u001b[0;34m\"yes\"\u001b[0m\u001b[0;34m:\u001b[0m\u001b[0;34m\u001b[0m\u001b[0;34m\u001b[0m\u001b[0m\n\u001b[1;32m    334\u001b[0m                 \u001b[0;32mraise\u001b[0m \u001b[0mTrainingCancelledError\u001b[0m\u001b[0;34m\u001b[0m\u001b[0;34m\u001b[0m\u001b[0m\n",
      "\u001b[0;32m~/opt/anaconda3/envs/d.a.t.a/lib/python3.8/site-packages/ipykernel/kernelbase.py\u001b[0m in \u001b[0;36mraw_input\u001b[0;34m(self, prompt)\u001b[0m\n\u001b[1;32m   1004\u001b[0m                 \u001b[0;34m\"raw_input was called, but this frontend does not support input requests.\"\u001b[0m\u001b[0;34m\u001b[0m\u001b[0;34m\u001b[0m\u001b[0m\n\u001b[1;32m   1005\u001b[0m             )\n\u001b[0;32m-> 1006\u001b[0;31m         return self._input_request(\n\u001b[0m\u001b[1;32m   1007\u001b[0m             \u001b[0mstr\u001b[0m\u001b[0;34m(\u001b[0m\u001b[0mprompt\u001b[0m\u001b[0;34m)\u001b[0m\u001b[0;34m,\u001b[0m\u001b[0;34m\u001b[0m\u001b[0;34m\u001b[0m\u001b[0m\n\u001b[1;32m   1008\u001b[0m             \u001b[0mself\u001b[0m\u001b[0;34m.\u001b[0m\u001b[0m_parent_ident\u001b[0m\u001b[0;34m[\u001b[0m\u001b[0;34m\"shell\"\u001b[0m\u001b[0;34m]\u001b[0m\u001b[0;34m,\u001b[0m\u001b[0;34m\u001b[0m\u001b[0;34m\u001b[0m\u001b[0m\n",
      "\u001b[0;32m~/opt/anaconda3/envs/d.a.t.a/lib/python3.8/site-packages/ipykernel/kernelbase.py\u001b[0m in \u001b[0;36m_input_request\u001b[0;34m(self, prompt, ident, parent, password)\u001b[0m\n\u001b[1;32m   1049\u001b[0m             \u001b[0;32mexcept\u001b[0m \u001b[0mKeyboardInterrupt\u001b[0m\u001b[0;34m:\u001b[0m\u001b[0;34m\u001b[0m\u001b[0;34m\u001b[0m\u001b[0m\n\u001b[1;32m   1050\u001b[0m                 \u001b[0;31m# re-raise KeyboardInterrupt, to truncate traceback\u001b[0m\u001b[0;34m\u001b[0m\u001b[0;34m\u001b[0m\u001b[0;34m\u001b[0m\u001b[0m\n\u001b[0;32m-> 1051\u001b[0;31m                 \u001b[0;32mraise\u001b[0m \u001b[0mKeyboardInterrupt\u001b[0m\u001b[0;34m(\u001b[0m\u001b[0;34m\"Interrupted by user\"\u001b[0m\u001b[0;34m)\u001b[0m \u001b[0;32mfrom\u001b[0m \u001b[0;32mNone\u001b[0m\u001b[0;34m\u001b[0m\u001b[0;34m\u001b[0m\u001b[0m\n\u001b[0m\u001b[1;32m   1052\u001b[0m             \u001b[0;32mexcept\u001b[0m \u001b[0mException\u001b[0m\u001b[0;34m:\u001b[0m\u001b[0;34m\u001b[0m\u001b[0;34m\u001b[0m\u001b[0m\n\u001b[1;32m   1053\u001b[0m                 \u001b[0mself\u001b[0m\u001b[0;34m.\u001b[0m\u001b[0mlog\u001b[0m\u001b[0;34m.\u001b[0m\u001b[0mwarning\u001b[0m\u001b[0;34m(\u001b[0m\u001b[0;34m\"Invalid Message:\"\u001b[0m\u001b[0;34m,\u001b[0m \u001b[0mexc_info\u001b[0m\u001b[0;34m=\u001b[0m\u001b[0;32mTrue\u001b[0m\u001b[0;34m)\u001b[0m\u001b[0;34m\u001b[0m\u001b[0;34m\u001b[0m\u001b[0m\n",
      "\u001b[0;31mKeyboardInterrupt\u001b[0m: Interrupted by user"
     ]
    }
   ],
   "source": [
    "#project.train()\n",
    "project.refresh()\n",
    "print(project)\n"
   ]
  },
  {
   "cell_type": "code",
   "execution_count": null,
   "metadata": {},
   "outputs": [],
   "source": [
    "\n",
    "client.predict(project=\"lie_detection\",\n",
    "               model_id=42, input_text=\"I know this one girl who I really don’t like. I met her when we were in middle school and unfortunately was stuck with her all the way through high school. And what I really don’t like about her is that she’s really opinionated and she’s not okay with anybody else’s opinion. So she’s the kind of person where it seems like you’re going to be really good friends until there’s one thing that you disagree over, and then that’s it. And she tries to turn everybody against you, so as soon as you’ve done one thing to tick her off she runs around trying to get everybody else to think that you’re this horrible person and I find that really unattractive in people.\"\n",
    "               )\n"
   ]
  },
  {
   "cell_type": "code",
   "execution_count": 6,
   "metadata": {},
   "outputs": [
    {
     "name": "stdout",
     "output_type": "stream",
     "text": [
      "Collecting AutoNLP\n",
      "  Using cached autonlp-0.3.7-py3-none-any.whl (35 kB)\n",
      "Collecting huggingface-hub==0.0.12\n",
      "  Using cached huggingface_hub-0.0.12-py3-none-any.whl (37 kB)\n",
      "Collecting requests==2.25.1\n",
      "  Using cached requests-2.25.1-py2.py3-none-any.whl (61 kB)\n",
      "Collecting prettytable==2.0.0\n",
      "  Using cached prettytable-2.0.0-py3-none-any.whl (22 kB)\n",
      "Collecting loguru==0.5.3\n",
      "  Using cached loguru-0.5.3-py3-none-any.whl (57 kB)\n",
      "Collecting datasets==1.11.0\n",
      "  Using cached datasets-1.11.0-py3-none-any.whl (264 kB)\n",
      "Collecting tqdm==4.49\n",
      "  Using cached tqdm-4.49.0-py2.py3-none-any.whl (69 kB)\n",
      "Collecting xxhash\n",
      "  Downloading xxhash-2.0.2-cp38-cp38-macosx_10_9_x86_64.whl (31 kB)\n",
      "Requirement already satisfied: numpy>=1.17 in /Users/mpd/opt/anaconda3/envs/d.a.t.a/lib/python3.8/site-packages (from datasets==1.11.0->AutoNLP) (1.21.2)\n",
      "Collecting multiprocess\n",
      "  Downloading multiprocess-0.70.12.2-py38-none-any.whl (128 kB)\n",
      "\u001b[K     |████████████████████████████████| 128 kB 7.3 MB/s \n",
      "\u001b[?25hRequirement already satisfied: packaging in /Users/mpd/opt/anaconda3/envs/d.a.t.a/lib/python3.8/site-packages (from datasets==1.11.0->AutoNLP) (21.0)\n",
      "Collecting fsspec>=2021.05.0\n",
      "  Using cached fsspec-2021.11.0-py3-none-any.whl (132 kB)\n",
      "Collecting dill\n",
      "  Using cached dill-0.3.4-py2.py3-none-any.whl (86 kB)\n",
      "Collecting pyarrow!=4.0.0,>=1.0.0\n",
      "  Downloading pyarrow-6.0.0-cp38-cp38-macosx_10_13_x86_64.whl (19.1 MB)\n",
      "\u001b[K     |████████████████████████████████| 19.1 MB 21.4 MB/s \n",
      "\u001b[?25hRequirement already satisfied: pandas in /Users/mpd/opt/anaconda3/envs/d.a.t.a/lib/python3.8/site-packages (from datasets==1.11.0->AutoNLP) (1.3.4)\n",
      "Requirement already satisfied: typing-extensions in /Users/mpd/opt/anaconda3/envs/d.a.t.a/lib/python3.8/site-packages (from huggingface-hub==0.0.12->AutoNLP) (3.10.0.2)\n",
      "Requirement already satisfied: filelock in /Users/mpd/opt/anaconda3/envs/d.a.t.a/lib/python3.8/site-packages (from huggingface-hub==0.0.12->AutoNLP) (3.3.2)\n",
      "Requirement already satisfied: setuptools in /Users/mpd/opt/anaconda3/envs/d.a.t.a/lib/python3.8/site-packages (from prettytable==2.0.0->AutoNLP) (58.0.4)\n",
      "Requirement already satisfied: wcwidth in /Users/mpd/opt/anaconda3/envs/d.a.t.a/lib/python3.8/site-packages (from prettytable==2.0.0->AutoNLP) (0.2.5)\n",
      "Requirement already satisfied: certifi>=2017.4.17 in /Users/mpd/opt/anaconda3/envs/d.a.t.a/lib/python3.8/site-packages (from requests==2.25.1->AutoNLP) (2021.10.8)\n",
      "Collecting idna<3,>=2.5\n",
      "  Using cached idna-2.10-py2.py3-none-any.whl (58 kB)\n",
      "Collecting chardet<5,>=3.0.2\n",
      "  Using cached chardet-4.0.0-py2.py3-none-any.whl (178 kB)\n",
      "Requirement already satisfied: urllib3<1.27,>=1.21.1 in /Users/mpd/opt/anaconda3/envs/d.a.t.a/lib/python3.8/site-packages (from requests==2.25.1->AutoNLP) (1.26.7)\n",
      "Requirement already satisfied: pyparsing>=2.0.2 in /Users/mpd/opt/anaconda3/envs/d.a.t.a/lib/python3.8/site-packages (from packaging->datasets==1.11.0->AutoNLP) (3.0.4)\n",
      "Requirement already satisfied: python-dateutil>=2.7.3 in /Users/mpd/opt/anaconda3/envs/d.a.t.a/lib/python3.8/site-packages (from pandas->datasets==1.11.0->AutoNLP) (2.8.2)\n",
      "Requirement already satisfied: pytz>=2017.3 in /Users/mpd/opt/anaconda3/envs/d.a.t.a/lib/python3.8/site-packages (from pandas->datasets==1.11.0->AutoNLP) (2021.3)\n",
      "Requirement already satisfied: six>=1.5 in /Users/mpd/opt/anaconda3/envs/d.a.t.a/lib/python3.8/site-packages (from python-dateutil>=2.7.3->pandas->datasets==1.11.0->AutoNLP) (1.16.0)\n",
      "Installing collected packages: idna, chardet, tqdm, requests, dill, xxhash, pyarrow, multiprocess, huggingface-hub, fsspec, prettytable, loguru, datasets, AutoNLP\n",
      "  Attempting uninstall: idna\n",
      "    Found existing installation: idna 3.2\n",
      "    Uninstalling idna-3.2:\n",
      "      Successfully uninstalled idna-3.2\n",
      "  Attempting uninstall: tqdm\n",
      "    Found existing installation: tqdm 4.62.3\n",
      "    Uninstalling tqdm-4.62.3:\n",
      "      Successfully uninstalled tqdm-4.62.3\n",
      "  Attempting uninstall: requests\n",
      "    Found existing installation: requests 2.26.0\n",
      "    Uninstalling requests-2.26.0:\n",
      "      Successfully uninstalled requests-2.26.0\n",
      "  Attempting uninstall: huggingface-hub\n",
      "    Found existing installation: huggingface-hub 0.1.2\n",
      "    Uninstalling huggingface-hub-0.1.2:\n",
      "      Successfully uninstalled huggingface-hub-0.1.2\n",
      "\u001b[31mERROR: pip's dependency resolver does not currently take into account all the packages that are installed. This behaviour is the source of the following dependency conflicts.\n",
      "transformers 4.11.3 requires huggingface-hub>=0.0.17, but you have huggingface-hub 0.0.12 which is incompatible.\u001b[0m\n",
      "Successfully installed AutoNLP-0.3.7 chardet-4.0.0 datasets-1.11.0 dill-0.3.4 fsspec-2021.11.0 huggingface-hub-0.0.12 idna-2.10 loguru-0.5.3 multiprocess-0.70.12.2 prettytable-2.0.0 pyarrow-6.0.0 requests-2.25.1 tqdm-4.49.0 xxhash-2.0.2\n"
     ]
    }
   ],
   "source": [
    "!pip install AutoNLP"
   ]
  },
  {
   "cell_type": "code",
   "execution_count": null,
   "metadata": {},
   "outputs": [],
   "source": []
  }
 ],
 "metadata": {
  "kernelspec": {
   "display_name": "Python 3 (ipykernel)",
   "language": "python",
   "name": "python3"
  },
  "language_info": {
   "codemirror_mode": {
    "name": "ipython",
    "version": 3
   },
   "file_extension": ".py",
   "mimetype": "text/x-python",
   "name": "python",
   "nbconvert_exporter": "python",
   "pygments_lexer": "ipython3",
   "version": "3.8.12"
  }
 },
 "nbformat": 4,
 "nbformat_minor": 0
}
