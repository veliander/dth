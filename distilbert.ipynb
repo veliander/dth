{
 "cells": [
  {
   "cell_type": "code",
   "execution_count": 26,
   "metadata": {},
   "outputs": [
    {
     "name": "stdout",
     "output_type": "stream",
     "text": [
      "Our training data has    258  rows.\n",
      "Our validation data has  32  rows.\n",
      "Our test data has        30  rows.\n"
     ]
    }
   ],
   "source": [
    "# Import libraries\n",
    "import matplotlib.pyplot as plt\n",
    "#from comet_ml import Experiment\n",
    "import numpy as np\n",
    "import os\n",
    "import pandas as pd\n",
    "import random\n",
    "import seaborn as sns\n",
    "import scikitplot as skplt\n",
    "from sklearn.metrics import accuracy_score\n",
    "from sklearn.metrics import roc_auc_score\n",
    "from sklearn.metrics import roc_curve\n",
    "from sklearn.metrics import f1_score\n",
    "import tensorflow as tf\n",
    "from tensorflow.keras import backend as K\n",
    "from tensorflow.keras import initializers\n",
    "from transformers import DistilBertTokenizerFast\n",
    "from transformers import TFDistilBertModel, DistilBertConfig\n",
    "\n",
    "\n",
    "# Import matplotlib\n",
    "pd.plotting.register_matplotlib_converters()\n",
    "get_ipython().run_line_magic('matplotlib', 'inline')\n",
    "\n",
    "\n",
    "# Load training data\n",
    "X_train = pd.read_csv(\n",
    "    'train.csv')['Transcription']\n",
    "X_valid = pd.read_csv(\n",
    "    'valid.csv')['Transcription']\n",
    "y_train = pd.read_csv('train.csv')['Type'] == 'Truthful'\n",
    "y_valid = pd.read_csv(\n",
    "    'valid.csv')['Type'] == 'Truthful'\n",
    "\n",
    "# Load test data\n",
    "test = pd.read_csv('test.csv')\n",
    "X_test = test['Transcription']\n",
    "y_test = test['Type'] == 'Truthful'\n",
    "\n",
    "# Check data\n",
    "print('Our training data has   ', len(X_train.index), ' rows.')\n",
    "print('Our validation data has ', len(X_valid.index), ' rows.')\n",
    "print('Our test data has       ', len(X_test.index), ' rows.')\n",
    "\n",
    "\n",
    "# Allow us to see full text (not truncated)\n",
    "pd.set_option('display.max_colwidth', None)\n"
   ]
  },
  {
   "cell_type": "code",
   "execution_count": 27,
   "metadata": {},
   "outputs": [],
   "source": [
    "########## Ensure reproducibility ##########\n",
    "\n",
    "\n",
    "# 1. Set `PYTHONHASHSEED` environment variable at a fixed value\n",
    "os.environ['PYTHONHASHSEED'] = str(42)\n",
    "\n",
    "# 2. Set `python` built-in pseudo-random generator at a fixed value\n",
    "random.seed(42)\n",
    "\n",
    "# 3. Set `numpy` pseudo-random generator at a fixed value\n",
    "np.random.seed(42)\n",
    "\n",
    "# 4. Set `tensorflow` pseudo-random generator at a fixed value\n",
    "tf.random.set_seed(seed=42)\n"
   ]
  },
  {
   "cell_type": "code",
   "execution_count": 28,
   "metadata": {},
   "outputs": [
    {
     "name": "stdout",
     "output_type": "stream",
     "text": [
      "0      False\n",
      "1      False\n",
      "2      False\n",
      "3       True\n",
      "4       True\n",
      "       ...  \n",
      "253     True\n",
      "254    False\n",
      "255    False\n",
      "256     True\n",
      "257     True\n",
      "Name: Type, Length: 258, dtype: bool\n"
     ]
    }
   ],
   "source": [
    "print (y_train)"
   ]
  },
  {
   "cell_type": "code",
   "execution_count": 29,
   "metadata": {},
   "outputs": [],
   "source": [
    "# Define the maximum number of words to tokenize (DistilBERT can tokenize up to 512)\n",
    "MAX_LENGTH = 256\n",
    "\n",
    "\n",
    "# Define function to encode text data in batches\n",
    "def batch_encode(tokenizer, texts, batch_size=256, max_length=MAX_LENGTH):\n",
    "    \"\"\"\"\"\"\"\"\"\n",
    "    A function that encodes a batch of texts and returns the texts'\n",
    "    corresponding encodings and attention masks that are ready to be fed \n",
    "    into a pre-trained transformer model.\n",
    "    \n",
    "    Input:\n",
    "        - tokenizer:   Tokenizer object from the PreTrainedTokenizer Class\n",
    "        - texts:       List of strings where each string represents a text\n",
    "        - batch_size:  Integer controlling number of texts in a batch\n",
    "        - max_length:  Integer controlling max number of words to tokenize in a given text\n",
    "    Output:\n",
    "        - input_ids:       sequence of texts encoded as a tf.Tensor object\n",
    "        - attention_mask:  the texts' attention mask encoded as a tf.Tensor object\n",
    "    \"\"\"\"\"\"\"\"\"\n",
    "\n",
    "    input_ids = []\n",
    "    attention_mask = []\n",
    "\n",
    "    for i in range(0, len(texts), batch_size):\n",
    "        batch = texts[i:i+batch_size]\n",
    "        inputs = tokenizer.batch_encode_plus(batch,\n",
    "                                             max_length=MAX_LENGTH,\n",
    "                                             padding='max_length',  # implements dynamic padding\n",
    "                                             truncation=True,\n",
    "                                             pad_to_max_length=True,\n",
    "                                             return_attention_mask=True,\n",
    "                                             return_token_type_ids=False\n",
    "                                             )\n",
    "        input_ids.extend(inputs['input_ids'])\n",
    "        attention_mask.extend(inputs['attention_mask'])\n",
    "\n",
    "    return tf.convert_to_tensor(input_ids), tf.convert_to_tensor(attention_mask)\n"
   ]
  },
  {
   "cell_type": "code",
   "execution_count": 30,
   "metadata": {},
   "outputs": [],
   "source": [
    "tokenizer = DistilBertTokenizerFast.from_pretrained('distilbert-base-uncased')\n",
    "# Encode X_train\n",
    "X_train_ids, X_train_attention = batch_encode(tokenizer, X_train.tolist())\n",
    "\n",
    "# Encode X_valid\n",
    "X_valid_ids, X_valid_attention = batch_encode(tokenizer, X_valid.tolist())\n",
    "\n",
    "# Encode X_test\n",
    "X_test_ids, X_test_attention = batch_encode(tokenizer, X_test.tolist())\n"
   ]
  },
  {
   "cell_type": "code",
   "execution_count": 31,
   "metadata": {},
   "outputs": [],
   "source": [
    "MAX_LENGTH = 256 \n",
    "LAYER_DROPOUT = 0.2\n",
    "LEARNING_RATE = 3e-5\n",
    "RANDOM_STATE = 42\n",
    "\n",
    "\n",
    "def build_model(transformer, max_length=MAX_LENGTH):\n",
    "    \"\"\"\"\"\"\"\"\"\n",
    "    Template for building a model off of the BERT or DistilBERT architecture\n",
    "    for a binary classification task.\n",
    "    \n",
    "    Input:\n",
    "      - transformer:  a base Hugging Face transformer model object (BERT or DistilBERT)\n",
    "                      with no added classification head attached.\n",
    "      - max_length:   integer controlling the maximum number of encoded tokens \n",
    "                      in a given sequence.\n",
    "    \n",
    "    Output:\n",
    "      - model:        a compiled tf.keras.Model with added classification layers \n",
    "                      on top of the base pre-trained model architecture.\n",
    "    \"\"\"\"\"\"\"\"\"\n",
    "\n",
    "    # Define weight initializer with a random seed to ensure reproducibility\n",
    "    weight_initializer = tf.keras.initializers.GlorotNormal(\n",
    "        seed=RANDOM_STATE)\n",
    "\n",
    "    # Define input layers\n",
    "    input_ids_layer = tf.keras.layers.Input(shape=(max_length,),\n",
    "                                            name='input_ids',\n",
    "                                            dtype='int32')\n",
    "    input_attention_layer = tf.keras.layers.Input(shape=(max_length,),\n",
    "                                                  name='input_attention',\n",
    "                                                  dtype='int32')\n",
    "\n",
    "    # DistilBERT outputs a tuple where the first element at index 0\n",
    "    # represents the hidden-state at the output of the model's last layer.\n",
    "    # It is a tf.Tensor of shape (batch_size, sequence_length, hidden_size=768).\n",
    "    last_hidden_state = transformer(\n",
    "        [input_ids_layer, input_attention_layer])[0]\n",
    "\n",
    "    # We only care about DistilBERT's output for the [CLS] token, which is located\n",
    "    # at index 0.  Splicing out the [CLS] tokens gives us 2D data.\n",
    "    cls_token = last_hidden_state[:, 0, :]\n",
    "\n",
    "    D1 = tf.keras.layers.Dropout(LAYER_DROPOUT,\n",
    "                                 seed=RANDOM_STATE\n",
    "                                 )(cls_token)\n",
    "\n",
    "    X = tf.keras.layers.Dense(128,\n",
    "                              activation='relu',\n",
    "                              kernel_initializer=weight_initializer,\n",
    "                              bias_initializer='zeros'\n",
    "                              )(D1)\n",
    "\n",
    "    D2 = tf.keras.layers.Dropout(LAYER_DROPOUT,\n",
    "                                 seed=RANDOM_STATE\n",
    "                                 )(X)\n",
    "\n",
    "    # X = tf.keras.layers.Dense(32,\n",
    "    #                           activation='relu',\n",
    "    #                           kernel_initializer=weight_initializer,\n",
    "    #                           bias_initializer='zeros'\n",
    "    #                           )(D2)\n",
    "\n",
    "    # D3 = tf.keras.layers.Dropout(LAYER_DROPOUT,\n",
    "    #                              seed=RANDOM_STATE\n",
    "    #                              )(X)\n",
    "\n",
    "    # Define a single node that makes up the output layer (for binary classification)\n",
    "    output = tf.keras.layers.Dense(1,\n",
    "                                   activation='sigmoid',\n",
    "                                   kernel_initializer=weight_initializer,  # CONSIDER USING CONSTRAINT\n",
    "                                   bias_initializer='zeros'\n",
    "                                   )(D2)\n",
    "\n",
    "    # Define the model\n",
    "    model = tf.keras.Model([input_ids_layer, input_attention_layer], output)\n",
    "\n",
    "    # Compile the model\n",
    "    model.compile(tf.keras.optimizers.Adam(lr=LEARNING_RATE),\n",
    "                  loss='binary_crossentropy',\n",
    "                  metrics=['accuracy'])\n",
    "\n",
    "    return model\n"
   ]
  },
  {
   "cell_type": "code",
   "execution_count": 32,
   "metadata": {},
   "outputs": [
    {
     "name": "stderr",
     "output_type": "stream",
     "text": [
      "Some layers from the model checkpoint at distilbert-base-uncased were not used when initializing TFDistilBertModel: ['activation_13', 'vocab_transform', 'vocab_projector', 'vocab_layer_norm']\n",
      "- This IS expected if you are initializing TFDistilBertModel from the checkpoint of a model trained on another task or with another architecture (e.g. initializing a BertForSequenceClassification model from a BertForPreTraining model).\n",
      "- This IS NOT expected if you are initializing TFDistilBertModel from the checkpoint of a model that you expect to be exactly identical (initializing a BertForSequenceClassification model from a BertForSequenceClassification model).\n",
      "All the layers of TFDistilBertModel were initialized from the model checkpoint at distilbert-base-uncased.\n",
      "If your task is similar to the task the model of the checkpoint was trained on, you can already use TFDistilBertModel for predictions without further training.\n"
     ]
    }
   ],
   "source": [
    "from transformers import TFDistilBertModel, DistilBertConfig\n",
    "\n",
    "DISTILBERT_DROPOUT = 0.2\n",
    "DISTILBERT_ATT_DROPOUT = 0.2\n",
    "\n",
    "# The bare, pretrained DistilBERT transformer model outputting raw hidden-states\n",
    "# and without any specific head on top.\n",
    "config = DistilBertConfig(dropout=DISTILBERT_DROPOUT,\n",
    "                          attention_dropout=DISTILBERT_ATT_DROPOUT,\n",
    "                          output_hidden_states=True)\n",
    "distilBERT = TFDistilBertModel.from_pretrained(\n",
    "    'distilbert-base-uncased', config=config)\n",
    "\n",
    "# Freeze DistilBERT layers to preserve pre-trained weights\n",
    "for layer in distilBERT.layers:\n",
    "    layer.trainable = False\n",
    "\n",
    "# Build model\n",
    "model = build_model(distilBERT)\n"
   ]
  },
  {
   "cell_type": "code",
   "execution_count": 33,
   "metadata": {},
   "outputs": [
    {
     "name": "stdout",
     "output_type": "stream",
     "text": [
      "(258, 256)\n",
      "(258, 256)\n",
      "(258,)\n",
      "(32, 256)\n",
      "(32, 256)\n",
      "(32,)\n"
     ]
    }
   ],
   "source": [
    "print(X_train_ids.shape)\n",
    "print(X_train_attention.shape)\n",
    "print(y_train.to_numpy().shape)\n",
    "print(X_valid_ids.shape)\n",
    "print(X_valid_attention.shape)\n",
    "print(y_valid.to_numpy().shape)\n"
   ]
  },
  {
   "cell_type": "code",
   "execution_count": 34,
   "metadata": {},
   "outputs": [
    {
     "name": "stdout",
     "output_type": "stream",
     "text": [
      "16\n",
      "Epoch 1/6\n",
      "16/16 - 36s - loss: 0.7035 - accuracy: 0.5195 - val_loss: 0.7097 - val_accuracy: 0.5312\n",
      "Epoch 2/6\n",
      "16/16 - 30s - loss: 0.7256 - accuracy: 0.4711 - val_loss: 0.7170 - val_accuracy: 0.4688\n",
      "Epoch 3/6\n",
      "16/16 - 30s - loss: 0.7264 - accuracy: 0.4628 - val_loss: 0.7338 - val_accuracy: 0.3438\n",
      "Epoch 4/6\n",
      "16/16 - 30s - loss: 0.6867 - accuracy: 0.5248 - val_loss: 0.7328 - val_accuracy: 0.3750\n",
      "Epoch 5/6\n",
      "16/16 - 30s - loss: 0.6954 - accuracy: 0.5413 - val_loss: 0.7207 - val_accuracy: 0.4375\n",
      "Epoch 6/6\n",
      "16/16 - 30s - loss: 0.7043 - accuracy: 0.4917 - val_loss: 0.7162 - val_accuracy: 0.5000\n"
     ]
    }
   ],
   "source": [
    "EPOCHS = 6\n",
    "BATCH_SIZE = 16\n",
    "NUM_STEPS = len(X_train.index) // BATCH_SIZE\n",
    "print(NUM_STEPS)\n",
    "\n",
    "# Train the model\n",
    "train_history1 = model.fit(\n",
    "    x=[X_train_ids, X_train_attention],\n",
    "    y=y_train.to_numpy(),\n",
    "    epochs=EPOCHS,\n",
    "    batch_size=BATCH_SIZE,\n",
    "    steps_per_epoch=NUM_STEPS,\n",
    "    validation_data=([X_valid_ids, X_valid_attention], y_valid.to_numpy()),\n",
    "    verbose=2\n",
    ")\n"
   ]
  },
  {
   "cell_type": "code",
   "execution_count": 35,
   "metadata": {},
   "outputs": [
    {
     "name": "stdout",
     "output_type": "stream",
     "text": [
      "Epoch 1/4\n",
      "16/16 - 86s - loss: 0.7081 - accuracy: 0.5312 - val_loss: 0.8231 - val_accuracy: 0.2812\n",
      "Epoch 2/4\n",
      "16/16 - 76s - loss: 0.7285 - accuracy: 0.5372 - val_loss: 0.7000 - val_accuracy: 0.5938\n",
      "Epoch 3/4\n",
      "16/16 - 76s - loss: 0.6896 - accuracy: 0.5413 - val_loss: 0.6701 - val_accuracy: 0.5625\n",
      "Epoch 4/4\n",
      "16/16 - 76s - loss: 0.6415 - accuracy: 0.6488 - val_loss: 0.7357 - val_accuracy: 0.4375\n"
     ]
    }
   ],
   "source": [
    "FT_EPOCHS = 4\n",
    "BATCH_SIZE = 16\n",
    "NUM_STEPS = len(X_train.index) // BATCH_SIZE\n",
    "FT_LEARNING_RATE = 2e-5\n",
    "\n",
    "# Unfreeze DistilBERT weights to enable fine-tuning\n",
    "for layer in distilBERT.layers:\n",
    "    layer.trainable = True\n",
    "\n",
    "# Lower the learning rate to prevent destruction of pre-trained weights\n",
    "optimizer = tf.keras.optimizers.Adam(lr=FT_LEARNING_RATE)\n",
    "\n",
    "# Recompile model after unfreezing\n",
    "model.compile(optimizer=optimizer,\n",
    "              loss='binary_crossentropy',\n",
    "              metrics=['accuracy'])\n",
    "\n",
    "# Define callbacks\n",
    "early_stopping = tf.keras.callbacks.EarlyStopping(monitor='val_loss',\n",
    "                                                  mode='min',\n",
    "                                                  min_delta=0,\n",
    "                                                  patience=0,\n",
    "                                                  restore_best_weights=True)\n",
    "\n",
    "# Train the model\n",
    "train_history2 = model.fit(\n",
    "    x=[X_train_ids, X_train_attention],\n",
    "    y=y_train.to_numpy(),\n",
    "    epochs=FT_EPOCHS,\n",
    "    batch_size=BATCH_SIZE,\n",
    "    steps_per_epoch=NUM_STEPS,\n",
    "    validation_data=([X_valid_ids, X_valid_attention], y_valid.to_numpy()),\n",
    "    callbacks=[early_stopping],\n",
    "    verbose=2\n",
    ")\n"
   ]
  },
  {
   "cell_type": "code",
   "execution_count": 36,
   "metadata": {},
   "outputs": [
    {
     "name": "stdout",
     "output_type": "stream",
     "text": [
      "Accuracy:   0.6333333333333333\n",
      "ROC-AUC:    0.7053571428571429\n"
     ]
    },
    {
     "data": {
      "image/png": "[encoded data removed]",
      "text/plain": [
       "<Figure size 720x504 with 1 Axes>"
      ]
     },
     "metadata": {
      "needs_background": "light"
     },
     "output_type": "display_data"
    }
   ],
   "source": [
    "\n",
    "# Generate predictions\n",
    "y_pred = model.predict([X_test_ids, X_test_attention])\n",
    "y_pred_thresh = np.where(y_pred >=0.5, 1, 0)\n",
    "\n",
    "# Get evaluation results\n",
    "accuracy = accuracy_score(y_test, y_pred_thresh)\n",
    "auc_roc = roc_auc_score(y_test, y_pred)\n",
    "\n",
    "# Log the ROC curve\n",
    "fpr, tpr, thresholds = roc_curve(y_test.to_numpy(), y_pred)\n",
    " \n",
    "fig, ax = plt.subplots(figsize=(10, 7))\n",
    "ax.plot(fpr, tpr)\n",
    "ax.plot(np.linspace(0, 1, 100),\n",
    "        np.linspace(0, 1, 100),\n",
    "        label='baseline',\n",
    "        linestyle='--')\n",
    "plt.title('Receiver Operating Characteristic Curve', fontsize=18)\n",
    "plt.ylabel('TPR', fontsize=16)\n",
    "plt.xlabel('FPR', fontsize=16)\n",
    "plt.legend(fontsize=12)\n",
    "\n",
    "print('Accuracy:  ', accuracy)    \n",
    "print('ROC-AUC:   ', auc_roc)     \n"
   ]
  },
  {
   "cell_type": "code",
   "execution_count": 37,
   "metadata": {},
   "outputs": [
    {
     "name": "stdout",
     "output_type": "stream",
     "text": [
      "Minimum Validation Loss: 0.6701\n"
     ]
    },
    {
     "data": {
      "image/png": "[encoded data removed]",
      "text/plain": [
       "<Figure size 432x288 with 1 Axes>"
      ]
     },
     "metadata": {
      "needs_background": "light"
     },
     "output_type": "display_data"
    }
   ],
   "source": [
    "# Build train_history\n",
    "history_df1 = pd.DataFrame(train_history1.history)\n",
    "history_df2 = pd.DataFrame(train_history2.history)\n",
    "history_df = history_df1.append(history_df2, ignore_index=True)\n",
    "\n",
    "# Plot training and validation loss over each epoch\n",
    "history_df.loc[:, ['loss', 'val_loss']].plot()\n",
    "plt.title(label='Training + Validation Loss Over Time', fontsize=17, pad=19)\n",
    "plt.xlabel('Epoch', labelpad=14, fontsize=14)\n",
    "plt.ylabel('Binary Crossentropy Loss', labelpad=16, fontsize=14)\n",
    "print(\"Minimum Validation Loss: {:0.4f}\".format(history_df['val_loss'].min()))\n",
    "\n",
    "# Save figure\n",
    "\n"
   ]
  },
  {
   "cell_type": "code",
   "execution_count": 38,
   "metadata": {},
   "outputs": [
    {
     "data": {
      "text/plain": [
       "Text(0, 0.5, 'True Label')"
      ]
     },
     "execution_count": 38,
     "metadata": {},
     "output_type": "execute_result"
    },
    {
     "data": {
      "image/png": "[encoded data removed]",
      "text/plain": [
       "<Figure size 432x432 with 2 Axes>"
      ]
     },
     "metadata": {
      "needs_background": "light"
     },
     "output_type": "display_data"
    }
   ],
   "source": [
    "# Plot confusion matrix\n",
    "skplt.metrics.plot_confusion_matrix(y_test.to_list(),\n",
    "                                    y_pred_thresh.tolist(),\n",
    "                                    figsize=(6, 6),\n",
    "                                    text_fontsize=14)\n",
    "plt.title(label='Test Confusion Matrix', fontsize=20, pad=17)\n",
    "plt.xlabel('Predicted Label', labelpad=14)\n",
    "plt.ylabel('True Label', labelpad=14)\n",
    "\n"
   ]
  },
  {
   "cell_type": "code",
   "execution_count": null,
   "metadata": {},
   "outputs": [],
   "source": []
  }
 ],
 "metadata": {
  "kernelspec": {
   "display_name": "Python 3",
   "language": "python",
   "name": "python3"
  },
  "language_info": {
   "codemirror_mode": {
    "name": "ipython",
    "version": 3
   },
   "file_extension": ".py",
   "mimetype": "text/x-python",
   "name": "python",
   "nbconvert_exporter": "python",
   "pygments_lexer": "ipython3",
   "version": "3.8.12"
  }
 },
 "nbformat": 4,
 "nbformat_minor": 2
}
